{
 "cells": [
  {
   "cell_type": "markdown",
   "metadata": {},
   "source": [
    "# Project: Identify Customer Segments\n",
    "\n",
    "In this project, you will apply unsupervised learning techniques to identify segments of the population that form the core customer base for a mail-order sales company in Germany. These segments can then be used to direct marketing campaigns towards audiences that will have the highest expected rate of returns. The data that you will use has been provided by our partners at Bertelsmann Arvato Analytics, and represents a real-life data science task.\n",
    "\n",
    "This notebook will help you complete this task by providing a framework within which you will perform your analysis steps. In each step of the project, you will see some text describing the subtask that you will perform, followed by one or more code cells for you to complete your work. **Feel free to add additional code and markdown cells as you go along so that you can explore everything in precise chunks.** The code cells provided in the base template will outline only the major tasks, and will usually not be enough to cover all of the minor tasks that comprise it.\n",
    "\n",
    "It should be noted that while there will be precise guidelines on how you should handle certain tasks in the project, there will also be places where an exact specification is not provided. **There will be times in the project where you will need to make and justify your own decisions on how to treat the data.** These are places where there may not be only one way to handle the data. In real-life tasks, there may be many valid ways to approach an analysis task. One of the most important things you can do is clearly document your approach so that other scientists can understand the decisions you've made.\n",
    "\n",
    "At the end of most sections, there will be a Markdown cell labeled **Discussion**. In these cells, you will report your findings for the completed section, as well as document the decisions that you made in your approach to each subtask. **Your project will be evaluated not just on the code used to complete the tasks outlined, but also your communication about your observations and conclusions at each stage.**"
   ]
  },
  {
   "cell_type": "code",
   "execution_count": 112,
   "metadata": {
    "scrolled": true
   },
   "outputs": [
    {
     "data": {
      "text/plain": [
       "'\\nImport note: The classroom currently uses sklearn version 0.19.\\nIf you need to use an imputer, it is available in sklearn.preprocessing.Imputer,\\ninstead of sklearn.impute as in newer versions of sklearn.\\n'"
      ]
     },
     "execution_count": 112,
     "metadata": {},
     "output_type": "execute_result"
    }
   ],
   "source": [
    "# import libraries here; add more as necessary\n",
    "import numpy as np\n",
    "import pandas as pd\n",
    "import matplotlib.pyplot as plt\n",
    "import seaborn as sns\n",
    "import warnings\n",
    "warnings.filterwarnings('ignore')\n",
    "\n",
    "# magic word for producing visualizations in notebook\n",
    "%matplotlib inline\n",
    "\n",
    "'''\n",
    "Import note: The classroom currently uses sklearn version 0.19.\n",
    "If you need to use an imputer, it is available in sklearn.preprocessing.Imputer,\n",
    "instead of sklearn.impute as in newer versions of sklearn.\n",
    "'''"
   ]
  },
  {
   "cell_type": "markdown",
   "metadata": {},
   "source": [
    "### Step 0: Load the Data\n",
    "\n",
    "There are four files associated with this project (not including this one):\n",
    "\n",
    "- `Udacity_AZDIAS_Subset.csv`: Demographics data for the general population of Germany; 891211 persons (rows) x 85 features (columns).\n",
    "- `Udacity_CUSTOMERS_Subset.csv`: Demographics data for customers of a mail-order company; 191652 persons (rows) x 85 features (columns).\n",
    "- `Data_Dictionary.md`: Detailed information file about the features in the provided datasets.\n",
    "- `AZDIAS_Feature_Summary.csv`: Summary of feature attributes for demographics data; 85 features (rows) x 4 columns\n",
    "\n",
    "Each row of the demographics files represents a single person, but also includes information outside of individuals, including information about their household, building, and neighborhood. You will use this information to cluster the general population into groups with similar demographic properties. Then, you will see how the people in the customers dataset fit into those created clusters. The hope here is that certain clusters are over-represented in the customers data, as compared to the general population; those over-represented clusters will be assumed to be part of the core userbase. This information can then be used for further applications, such as targeting for a marketing campaign.\n",
    "\n",
    "To start off with, load in the demographics data for the general population into a pandas DataFrame, and do the same for the feature attributes summary. Note for all of the `.csv` data files in this project: they're semicolon (`;`) delimited, so you'll need an additional argument in your [`read_csv()`](https://pandas.pydata.org/pandas-docs/stable/generated/pandas.read_csv.html) call to read in the data properly. Also, considering the size of the main dataset, it may take some time for it to load completely.\n",
    "\n",
    "Once the dataset is loaded, it's recommended that you take a little bit of time just browsing the general structure of the dataset and feature summary file. You'll be getting deep into the innards of the cleaning in the first major step of the project, so gaining some general familiarity can help you get your bearings."
   ]
  },
  {
   "cell_type": "code",
   "execution_count": 113,
   "metadata": {
    "scrolled": true
   },
   "outputs": [],
   "source": [
    "pd.get_option(\"display.max_columns\")\n",
    "# Load in the general demographics data.\n",
    "azdias = pd.read_csv(\"Udacity_AZDIAS_Subset.csv\", sep=';')\n",
    "\n",
    "# Load in the feature summary file.\n",
    "feat_info = pd.read_csv(\"AZDIAS_Feature_Summary.csv\", sep=';')"
   ]
  },
  {
   "cell_type": "code",
   "execution_count": 114,
   "metadata": {
    "scrolled": true
   },
   "outputs": [
    {
     "data": {
      "text/plain": [
       "((891221, 85), (85, 4))"
      ]
     },
     "execution_count": 114,
     "metadata": {},
     "output_type": "execute_result"
    }
   ],
   "source": [
    "# Check the structure of the data after it's loaded (e.g. print the number of\n",
    "# rows and columns, print the first few rows).\n",
    "azdias.shape, feat_info.shape\n"
   ]
  },
  {
   "cell_type": "code",
   "execution_count": 115,
   "metadata": {
    "scrolled": false
   },
   "outputs": [
    {
     "data": {
      "text/html": [
       "<div>\n",
       "<style scoped>\n",
       "    .dataframe tbody tr th:only-of-type {\n",
       "        vertical-align: middle;\n",
       "    }\n",
       "\n",
       "    .dataframe tbody tr th {\n",
       "        vertical-align: top;\n",
       "    }\n",
       "\n",
       "    .dataframe thead th {\n",
       "        text-align: right;\n",
       "    }\n",
       "</style>\n",
       "<table border=\"1\" class=\"dataframe\">\n",
       "  <thead>\n",
       "    <tr style=\"text-align: right;\">\n",
       "      <th></th>\n",
       "      <th>AGER_TYP</th>\n",
       "      <th>ALTERSKATEGORIE_GROB</th>\n",
       "      <th>ANREDE_KZ</th>\n",
       "      <th>CJT_GESAMTTYP</th>\n",
       "      <th>FINANZ_MINIMALIST</th>\n",
       "      <th>FINANZ_SPARER</th>\n",
       "      <th>FINANZ_VORSORGER</th>\n",
       "      <th>FINANZ_ANLEGER</th>\n",
       "      <th>FINANZ_UNAUFFAELLIGER</th>\n",
       "      <th>FINANZ_HAUSBAUER</th>\n",
       "      <th>FINANZTYP</th>\n",
       "      <th>GEBURTSJAHR</th>\n",
       "      <th>GFK_URLAUBERTYP</th>\n",
       "      <th>GREEN_AVANTGARDE</th>\n",
       "      <th>HEALTH_TYP</th>\n",
       "      <th>LP_LEBENSPHASE_FEIN</th>\n",
       "      <th>LP_LEBENSPHASE_GROB</th>\n",
       "      <th>LP_FAMILIE_FEIN</th>\n",
       "      <th>LP_FAMILIE_GROB</th>\n",
       "      <th>LP_STATUS_FEIN</th>\n",
       "      <th>LP_STATUS_GROB</th>\n",
       "      <th>NATIONALITAET_KZ</th>\n",
       "      <th>PRAEGENDE_JUGENDJAHRE</th>\n",
       "      <th>RETOURTYP_BK_S</th>\n",
       "      <th>SEMIO_SOZ</th>\n",
       "      <th>SEMIO_FAM</th>\n",
       "      <th>SEMIO_REL</th>\n",
       "      <th>SEMIO_MAT</th>\n",
       "      <th>SEMIO_VERT</th>\n",
       "      <th>SEMIO_LUST</th>\n",
       "      <th>SEMIO_ERL</th>\n",
       "      <th>SEMIO_KULT</th>\n",
       "      <th>SEMIO_RAT</th>\n",
       "      <th>SEMIO_KRIT</th>\n",
       "      <th>SEMIO_DOM</th>\n",
       "      <th>SEMIO_KAEM</th>\n",
       "      <th>SEMIO_PFLICHT</th>\n",
       "      <th>SEMIO_TRADV</th>\n",
       "      <th>SHOPPER_TYP</th>\n",
       "      <th>SOHO_KZ</th>\n",
       "      <th>TITEL_KZ</th>\n",
       "      <th>VERS_TYP</th>\n",
       "      <th>ZABEOTYP</th>\n",
       "      <th>ALTER_HH</th>\n",
       "      <th>ANZ_PERSONEN</th>\n",
       "      <th>ANZ_TITEL</th>\n",
       "      <th>HH_EINKOMMEN_SCORE</th>\n",
       "      <th>KK_KUNDENTYP</th>\n",
       "      <th>W_KEIT_KIND_HH</th>\n",
       "      <th>WOHNDAUER_2008</th>\n",
       "      <th>ANZ_HAUSHALTE_AKTIV</th>\n",
       "      <th>ANZ_HH_TITEL</th>\n",
       "      <th>GEBAEUDETYP</th>\n",
       "      <th>KONSUMNAEHE</th>\n",
       "      <th>MIN_GEBAEUDEJAHR</th>\n",
       "      <th>OST_WEST_KZ</th>\n",
       "      <th>WOHNLAGE</th>\n",
       "      <th>CAMEO_DEUG_2015</th>\n",
       "      <th>CAMEO_DEU_2015</th>\n",
       "      <th>CAMEO_INTL_2015</th>\n",
       "      <th>KBA05_ANTG1</th>\n",
       "      <th>KBA05_ANTG2</th>\n",
       "      <th>KBA05_ANTG3</th>\n",
       "      <th>KBA05_ANTG4</th>\n",
       "      <th>KBA05_BAUMAX</th>\n",
       "      <th>KBA05_GBZ</th>\n",
       "      <th>BALLRAUM</th>\n",
       "      <th>EWDICHTE</th>\n",
       "      <th>INNENSTADT</th>\n",
       "      <th>GEBAEUDETYP_RASTER</th>\n",
       "      <th>KKK</th>\n",
       "      <th>MOBI_REGIO</th>\n",
       "      <th>ONLINE_AFFINITAET</th>\n",
       "      <th>REGIOTYP</th>\n",
       "      <th>KBA13_ANZAHL_PKW</th>\n",
       "      <th>PLZ8_ANTG1</th>\n",
       "      <th>PLZ8_ANTG2</th>\n",
       "      <th>PLZ8_ANTG3</th>\n",
       "      <th>PLZ8_ANTG4</th>\n",
       "      <th>PLZ8_BAUMAX</th>\n",
       "      <th>PLZ8_HHZ</th>\n",
       "      <th>PLZ8_GBZ</th>\n",
       "      <th>ARBEIT</th>\n",
       "      <th>ORTSGR_KLS9</th>\n",
       "      <th>RELAT_AB</th>\n",
       "    </tr>\n",
       "  </thead>\n",
       "  <tbody>\n",
       "    <tr>\n",
       "      <th>0</th>\n",
       "      <td>-1</td>\n",
       "      <td>2</td>\n",
       "      <td>1</td>\n",
       "      <td>2.0</td>\n",
       "      <td>3</td>\n",
       "      <td>4</td>\n",
       "      <td>3</td>\n",
       "      <td>5</td>\n",
       "      <td>5</td>\n",
       "      <td>3</td>\n",
       "      <td>4</td>\n",
       "      <td>0</td>\n",
       "      <td>10.0</td>\n",
       "      <td>0</td>\n",
       "      <td>-1</td>\n",
       "      <td>15.0</td>\n",
       "      <td>4.0</td>\n",
       "      <td>2.0</td>\n",
       "      <td>2.0</td>\n",
       "      <td>1.0</td>\n",
       "      <td>1.0</td>\n",
       "      <td>0</td>\n",
       "      <td>0</td>\n",
       "      <td>5.0</td>\n",
       "      <td>2</td>\n",
       "      <td>6</td>\n",
       "      <td>7</td>\n",
       "      <td>5</td>\n",
       "      <td>1</td>\n",
       "      <td>5</td>\n",
       "      <td>3</td>\n",
       "      <td>3</td>\n",
       "      <td>4</td>\n",
       "      <td>7</td>\n",
       "      <td>6</td>\n",
       "      <td>6</td>\n",
       "      <td>5</td>\n",
       "      <td>3</td>\n",
       "      <td>-1</td>\n",
       "      <td>NaN</td>\n",
       "      <td>NaN</td>\n",
       "      <td>-1</td>\n",
       "      <td>3</td>\n",
       "      <td>NaN</td>\n",
       "      <td>NaN</td>\n",
       "      <td>NaN</td>\n",
       "      <td>2.0</td>\n",
       "      <td>NaN</td>\n",
       "      <td>NaN</td>\n",
       "      <td>NaN</td>\n",
       "      <td>NaN</td>\n",
       "      <td>NaN</td>\n",
       "      <td>NaN</td>\n",
       "      <td>NaN</td>\n",
       "      <td>NaN</td>\n",
       "      <td>NaN</td>\n",
       "      <td>NaN</td>\n",
       "      <td>NaN</td>\n",
       "      <td>NaN</td>\n",
       "      <td>NaN</td>\n",
       "      <td>NaN</td>\n",
       "      <td>NaN</td>\n",
       "      <td>NaN</td>\n",
       "      <td>NaN</td>\n",
       "      <td>NaN</td>\n",
       "      <td>NaN</td>\n",
       "      <td>NaN</td>\n",
       "      <td>NaN</td>\n",
       "      <td>NaN</td>\n",
       "      <td>NaN</td>\n",
       "      <td>NaN</td>\n",
       "      <td>NaN</td>\n",
       "      <td>1.0</td>\n",
       "      <td>NaN</td>\n",
       "      <td>NaN</td>\n",
       "      <td>NaN</td>\n",
       "      <td>NaN</td>\n",
       "      <td>NaN</td>\n",
       "      <td>NaN</td>\n",
       "      <td>NaN</td>\n",
       "      <td>NaN</td>\n",
       "      <td>NaN</td>\n",
       "      <td>NaN</td>\n",
       "      <td>NaN</td>\n",
       "      <td>NaN</td>\n",
       "    </tr>\n",
       "    <tr>\n",
       "      <th>1</th>\n",
       "      <td>-1</td>\n",
       "      <td>1</td>\n",
       "      <td>2</td>\n",
       "      <td>5.0</td>\n",
       "      <td>1</td>\n",
       "      <td>5</td>\n",
       "      <td>2</td>\n",
       "      <td>5</td>\n",
       "      <td>4</td>\n",
       "      <td>5</td>\n",
       "      <td>1</td>\n",
       "      <td>1996</td>\n",
       "      <td>10.0</td>\n",
       "      <td>0</td>\n",
       "      <td>3</td>\n",
       "      <td>21.0</td>\n",
       "      <td>6.0</td>\n",
       "      <td>5.0</td>\n",
       "      <td>3.0</td>\n",
       "      <td>2.0</td>\n",
       "      <td>1.0</td>\n",
       "      <td>1</td>\n",
       "      <td>14</td>\n",
       "      <td>1.0</td>\n",
       "      <td>5</td>\n",
       "      <td>4</td>\n",
       "      <td>4</td>\n",
       "      <td>3</td>\n",
       "      <td>1</td>\n",
       "      <td>2</td>\n",
       "      <td>2</td>\n",
       "      <td>3</td>\n",
       "      <td>6</td>\n",
       "      <td>4</td>\n",
       "      <td>7</td>\n",
       "      <td>4</td>\n",
       "      <td>7</td>\n",
       "      <td>6</td>\n",
       "      <td>3</td>\n",
       "      <td>1.0</td>\n",
       "      <td>0.0</td>\n",
       "      <td>2</td>\n",
       "      <td>5</td>\n",
       "      <td>0.0</td>\n",
       "      <td>2.0</td>\n",
       "      <td>0.0</td>\n",
       "      <td>6.0</td>\n",
       "      <td>NaN</td>\n",
       "      <td>3.0</td>\n",
       "      <td>9.0</td>\n",
       "      <td>11.0</td>\n",
       "      <td>0.0</td>\n",
       "      <td>8.0</td>\n",
       "      <td>1.0</td>\n",
       "      <td>1992.0</td>\n",
       "      <td>W</td>\n",
       "      <td>4.0</td>\n",
       "      <td>8</td>\n",
       "      <td>8A</td>\n",
       "      <td>51</td>\n",
       "      <td>0.0</td>\n",
       "      <td>0.0</td>\n",
       "      <td>0.0</td>\n",
       "      <td>2.0</td>\n",
       "      <td>5.0</td>\n",
       "      <td>1.0</td>\n",
       "      <td>6.0</td>\n",
       "      <td>3.0</td>\n",
       "      <td>8.0</td>\n",
       "      <td>3.0</td>\n",
       "      <td>2.0</td>\n",
       "      <td>1.0</td>\n",
       "      <td>3.0</td>\n",
       "      <td>3.0</td>\n",
       "      <td>963.0</td>\n",
       "      <td>2.0</td>\n",
       "      <td>3.0</td>\n",
       "      <td>2.0</td>\n",
       "      <td>1.0</td>\n",
       "      <td>1.0</td>\n",
       "      <td>5.0</td>\n",
       "      <td>4.0</td>\n",
       "      <td>3.0</td>\n",
       "      <td>5.0</td>\n",
       "      <td>4.0</td>\n",
       "    </tr>\n",
       "    <tr>\n",
       "      <th>2</th>\n",
       "      <td>-1</td>\n",
       "      <td>3</td>\n",
       "      <td>2</td>\n",
       "      <td>3.0</td>\n",
       "      <td>1</td>\n",
       "      <td>4</td>\n",
       "      <td>1</td>\n",
       "      <td>2</td>\n",
       "      <td>3</td>\n",
       "      <td>5</td>\n",
       "      <td>1</td>\n",
       "      <td>1979</td>\n",
       "      <td>10.0</td>\n",
       "      <td>1</td>\n",
       "      <td>3</td>\n",
       "      <td>3.0</td>\n",
       "      <td>1.0</td>\n",
       "      <td>1.0</td>\n",
       "      <td>1.0</td>\n",
       "      <td>3.0</td>\n",
       "      <td>2.0</td>\n",
       "      <td>1</td>\n",
       "      <td>15</td>\n",
       "      <td>3.0</td>\n",
       "      <td>4</td>\n",
       "      <td>1</td>\n",
       "      <td>3</td>\n",
       "      <td>3</td>\n",
       "      <td>4</td>\n",
       "      <td>4</td>\n",
       "      <td>6</td>\n",
       "      <td>3</td>\n",
       "      <td>4</td>\n",
       "      <td>7</td>\n",
       "      <td>7</td>\n",
       "      <td>7</td>\n",
       "      <td>3</td>\n",
       "      <td>3</td>\n",
       "      <td>2</td>\n",
       "      <td>0.0</td>\n",
       "      <td>0.0</td>\n",
       "      <td>1</td>\n",
       "      <td>5</td>\n",
       "      <td>17.0</td>\n",
       "      <td>1.0</td>\n",
       "      <td>0.0</td>\n",
       "      <td>4.0</td>\n",
       "      <td>NaN</td>\n",
       "      <td>3.0</td>\n",
       "      <td>9.0</td>\n",
       "      <td>10.0</td>\n",
       "      <td>0.0</td>\n",
       "      <td>1.0</td>\n",
       "      <td>5.0</td>\n",
       "      <td>1992.0</td>\n",
       "      <td>W</td>\n",
       "      <td>2.0</td>\n",
       "      <td>4</td>\n",
       "      <td>4C</td>\n",
       "      <td>24</td>\n",
       "      <td>1.0</td>\n",
       "      <td>3.0</td>\n",
       "      <td>1.0</td>\n",
       "      <td>0.0</td>\n",
       "      <td>0.0</td>\n",
       "      <td>3.0</td>\n",
       "      <td>2.0</td>\n",
       "      <td>4.0</td>\n",
       "      <td>4.0</td>\n",
       "      <td>4.0</td>\n",
       "      <td>2.0</td>\n",
       "      <td>3.0</td>\n",
       "      <td>2.0</td>\n",
       "      <td>2.0</td>\n",
       "      <td>712.0</td>\n",
       "      <td>3.0</td>\n",
       "      <td>3.0</td>\n",
       "      <td>1.0</td>\n",
       "      <td>0.0</td>\n",
       "      <td>1.0</td>\n",
       "      <td>4.0</td>\n",
       "      <td>4.0</td>\n",
       "      <td>3.0</td>\n",
       "      <td>5.0</td>\n",
       "      <td>2.0</td>\n",
       "    </tr>\n",
       "    <tr>\n",
       "      <th>3</th>\n",
       "      <td>2</td>\n",
       "      <td>4</td>\n",
       "      <td>2</td>\n",
       "      <td>2.0</td>\n",
       "      <td>4</td>\n",
       "      <td>2</td>\n",
       "      <td>5</td>\n",
       "      <td>2</td>\n",
       "      <td>1</td>\n",
       "      <td>2</td>\n",
       "      <td>6</td>\n",
       "      <td>1957</td>\n",
       "      <td>1.0</td>\n",
       "      <td>0</td>\n",
       "      <td>2</td>\n",
       "      <td>0.0</td>\n",
       "      <td>0.0</td>\n",
       "      <td>0.0</td>\n",
       "      <td>0.0</td>\n",
       "      <td>9.0</td>\n",
       "      <td>4.0</td>\n",
       "      <td>1</td>\n",
       "      <td>8</td>\n",
       "      <td>2.0</td>\n",
       "      <td>5</td>\n",
       "      <td>1</td>\n",
       "      <td>2</td>\n",
       "      <td>1</td>\n",
       "      <td>4</td>\n",
       "      <td>4</td>\n",
       "      <td>7</td>\n",
       "      <td>4</td>\n",
       "      <td>3</td>\n",
       "      <td>4</td>\n",
       "      <td>4</td>\n",
       "      <td>5</td>\n",
       "      <td>4</td>\n",
       "      <td>4</td>\n",
       "      <td>1</td>\n",
       "      <td>0.0</td>\n",
       "      <td>0.0</td>\n",
       "      <td>1</td>\n",
       "      <td>3</td>\n",
       "      <td>13.0</td>\n",
       "      <td>0.0</td>\n",
       "      <td>0.0</td>\n",
       "      <td>1.0</td>\n",
       "      <td>NaN</td>\n",
       "      <td>NaN</td>\n",
       "      <td>9.0</td>\n",
       "      <td>1.0</td>\n",
       "      <td>0.0</td>\n",
       "      <td>1.0</td>\n",
       "      <td>4.0</td>\n",
       "      <td>1997.0</td>\n",
       "      <td>W</td>\n",
       "      <td>7.0</td>\n",
       "      <td>2</td>\n",
       "      <td>2A</td>\n",
       "      <td>12</td>\n",
       "      <td>4.0</td>\n",
       "      <td>1.0</td>\n",
       "      <td>0.0</td>\n",
       "      <td>0.0</td>\n",
       "      <td>1.0</td>\n",
       "      <td>4.0</td>\n",
       "      <td>4.0</td>\n",
       "      <td>2.0</td>\n",
       "      <td>6.0</td>\n",
       "      <td>4.0</td>\n",
       "      <td>0.0</td>\n",
       "      <td>4.0</td>\n",
       "      <td>1.0</td>\n",
       "      <td>0.0</td>\n",
       "      <td>596.0</td>\n",
       "      <td>2.0</td>\n",
       "      <td>2.0</td>\n",
       "      <td>2.0</td>\n",
       "      <td>0.0</td>\n",
       "      <td>1.0</td>\n",
       "      <td>3.0</td>\n",
       "      <td>4.0</td>\n",
       "      <td>2.0</td>\n",
       "      <td>3.0</td>\n",
       "      <td>3.0</td>\n",
       "    </tr>\n",
       "    <tr>\n",
       "      <th>4</th>\n",
       "      <td>-1</td>\n",
       "      <td>3</td>\n",
       "      <td>1</td>\n",
       "      <td>5.0</td>\n",
       "      <td>4</td>\n",
       "      <td>3</td>\n",
       "      <td>4</td>\n",
       "      <td>1</td>\n",
       "      <td>3</td>\n",
       "      <td>2</td>\n",
       "      <td>5</td>\n",
       "      <td>1963</td>\n",
       "      <td>5.0</td>\n",
       "      <td>0</td>\n",
       "      <td>3</td>\n",
       "      <td>32.0</td>\n",
       "      <td>10.0</td>\n",
       "      <td>10.0</td>\n",
       "      <td>5.0</td>\n",
       "      <td>3.0</td>\n",
       "      <td>2.0</td>\n",
       "      <td>1</td>\n",
       "      <td>8</td>\n",
       "      <td>5.0</td>\n",
       "      <td>6</td>\n",
       "      <td>4</td>\n",
       "      <td>4</td>\n",
       "      <td>2</td>\n",
       "      <td>7</td>\n",
       "      <td>4</td>\n",
       "      <td>4</td>\n",
       "      <td>6</td>\n",
       "      <td>2</td>\n",
       "      <td>3</td>\n",
       "      <td>2</td>\n",
       "      <td>2</td>\n",
       "      <td>4</td>\n",
       "      <td>2</td>\n",
       "      <td>2</td>\n",
       "      <td>0.0</td>\n",
       "      <td>0.0</td>\n",
       "      <td>2</td>\n",
       "      <td>4</td>\n",
       "      <td>20.0</td>\n",
       "      <td>4.0</td>\n",
       "      <td>0.0</td>\n",
       "      <td>5.0</td>\n",
       "      <td>1.0</td>\n",
       "      <td>2.0</td>\n",
       "      <td>9.0</td>\n",
       "      <td>3.0</td>\n",
       "      <td>0.0</td>\n",
       "      <td>1.0</td>\n",
       "      <td>4.0</td>\n",
       "      <td>1992.0</td>\n",
       "      <td>W</td>\n",
       "      <td>3.0</td>\n",
       "      <td>6</td>\n",
       "      <td>6B</td>\n",
       "      <td>43</td>\n",
       "      <td>1.0</td>\n",
       "      <td>4.0</td>\n",
       "      <td>1.0</td>\n",
       "      <td>0.0</td>\n",
       "      <td>0.0</td>\n",
       "      <td>3.0</td>\n",
       "      <td>2.0</td>\n",
       "      <td>5.0</td>\n",
       "      <td>1.0</td>\n",
       "      <td>5.0</td>\n",
       "      <td>3.0</td>\n",
       "      <td>3.0</td>\n",
       "      <td>5.0</td>\n",
       "      <td>5.0</td>\n",
       "      <td>435.0</td>\n",
       "      <td>2.0</td>\n",
       "      <td>4.0</td>\n",
       "      <td>2.0</td>\n",
       "      <td>1.0</td>\n",
       "      <td>2.0</td>\n",
       "      <td>3.0</td>\n",
       "      <td>3.0</td>\n",
       "      <td>4.0</td>\n",
       "      <td>6.0</td>\n",
       "      <td>5.0</td>\n",
       "    </tr>\n",
       "  </tbody>\n",
       "</table>\n",
       "</div>"
      ],
      "text/plain": [
       "   AGER_TYP  ALTERSKATEGORIE_GROB  ANREDE_KZ  CJT_GESAMTTYP  \\\n",
       "0 -1         2                     1          2.0             \n",
       "1 -1         1                     2          5.0             \n",
       "2 -1         3                     2          3.0             \n",
       "3  2         4                     2          2.0             \n",
       "4 -1         3                     1          5.0             \n",
       "\n",
       "   FINANZ_MINIMALIST  FINANZ_SPARER  FINANZ_VORSORGER  FINANZ_ANLEGER  \\\n",
       "0  3                  4              3                 5                \n",
       "1  1                  5              2                 5                \n",
       "2  1                  4              1                 2                \n",
       "3  4                  2              5                 2                \n",
       "4  4                  3              4                 1                \n",
       "\n",
       "   FINANZ_UNAUFFAELLIGER  FINANZ_HAUSBAUER  FINANZTYP  GEBURTSJAHR  \\\n",
       "0  5                      3                 4          0             \n",
       "1  4                      5                 1          1996          \n",
       "2  3                      5                 1          1979          \n",
       "3  1                      2                 6          1957          \n",
       "4  3                      2                 5          1963          \n",
       "\n",
       "   GFK_URLAUBERTYP  GREEN_AVANTGARDE  HEALTH_TYP  LP_LEBENSPHASE_FEIN  \\\n",
       "0  10.0             0                -1           15.0                  \n",
       "1  10.0             0                 3           21.0                  \n",
       "2  10.0             1                 3           3.0                   \n",
       "3  1.0              0                 2           0.0                   \n",
       "4  5.0              0                 3           32.0                  \n",
       "\n",
       "   LP_LEBENSPHASE_GROB  LP_FAMILIE_FEIN  LP_FAMILIE_GROB  LP_STATUS_FEIN  \\\n",
       "0  4.0                  2.0              2.0              1.0              \n",
       "1  6.0                  5.0              3.0              2.0              \n",
       "2  1.0                  1.0              1.0              3.0              \n",
       "3  0.0                  0.0              0.0              9.0              \n",
       "4  10.0                 10.0             5.0              3.0              \n",
       "\n",
       "   LP_STATUS_GROB  NATIONALITAET_KZ  PRAEGENDE_JUGENDJAHRE  RETOURTYP_BK_S  \\\n",
       "0  1.0             0                 0                      5.0              \n",
       "1  1.0             1                 14                     1.0              \n",
       "2  2.0             1                 15                     3.0              \n",
       "3  4.0             1                 8                      2.0              \n",
       "4  2.0             1                 8                      5.0              \n",
       "\n",
       "   SEMIO_SOZ  SEMIO_FAM  SEMIO_REL  SEMIO_MAT  SEMIO_VERT  SEMIO_LUST  \\\n",
       "0  2          6          7          5          1           5            \n",
       "1  5          4          4          3          1           2            \n",
       "2  4          1          3          3          4           4            \n",
       "3  5          1          2          1          4           4            \n",
       "4  6          4          4          2          7           4            \n",
       "\n",
       "   SEMIO_ERL  SEMIO_KULT  SEMIO_RAT  SEMIO_KRIT  SEMIO_DOM  SEMIO_KAEM  \\\n",
       "0  3          3           4          7           6          6            \n",
       "1  2          3           6          4           7          4            \n",
       "2  6          3           4          7           7          7            \n",
       "3  7          4           3          4           4          5            \n",
       "4  4          6           2          3           2          2            \n",
       "\n",
       "   SEMIO_PFLICHT  SEMIO_TRADV  SHOPPER_TYP  SOHO_KZ  TITEL_KZ  VERS_TYP  \\\n",
       "0  5              3           -1           NaN      NaN       -1          \n",
       "1  7              6            3            1.0      0.0       2          \n",
       "2  3              3            2            0.0      0.0       1          \n",
       "3  4              4            1            0.0      0.0       1          \n",
       "4  4              2            2            0.0      0.0       2          \n",
       "\n",
       "   ZABEOTYP  ALTER_HH  ANZ_PERSONEN  ANZ_TITEL  HH_EINKOMMEN_SCORE  \\\n",
       "0  3        NaN       NaN           NaN         2.0                  \n",
       "1  5         0.0       2.0           0.0        6.0                  \n",
       "2  5         17.0      1.0           0.0        4.0                  \n",
       "3  3         13.0      0.0           0.0        1.0                  \n",
       "4  4         20.0      4.0           0.0        5.0                  \n",
       "\n",
       "   KK_KUNDENTYP  W_KEIT_KIND_HH  WOHNDAUER_2008  ANZ_HAUSHALTE_AKTIV  \\\n",
       "0 NaN           NaN             NaN             NaN                    \n",
       "1 NaN            3.0             9.0             11.0                  \n",
       "2 NaN            3.0             9.0             10.0                  \n",
       "3 NaN           NaN              9.0             1.0                   \n",
       "4  1.0           2.0             9.0             3.0                   \n",
       "\n",
       "   ANZ_HH_TITEL  GEBAEUDETYP  KONSUMNAEHE  MIN_GEBAEUDEJAHR OST_WEST_KZ  \\\n",
       "0 NaN           NaN          NaN          NaN                NaN          \n",
       "1  0.0           8.0          1.0          1992.0            W            \n",
       "2  0.0           1.0          5.0          1992.0            W            \n",
       "3  0.0           1.0          4.0          1997.0            W            \n",
       "4  0.0           1.0          4.0          1992.0            W            \n",
       "\n",
       "   WOHNLAGE CAMEO_DEUG_2015 CAMEO_DEU_2015 CAMEO_INTL_2015  KBA05_ANTG1  \\\n",
       "0 NaN        NaN             NaN            NaN            NaN            \n",
       "1  4.0       8               8A             51              0.0           \n",
       "2  2.0       4               4C             24              1.0           \n",
       "3  7.0       2               2A             12              4.0           \n",
       "4  3.0       6               6B             43              1.0           \n",
       "\n",
       "   KBA05_ANTG2  KBA05_ANTG3  KBA05_ANTG4  KBA05_BAUMAX  KBA05_GBZ  BALLRAUM  \\\n",
       "0 NaN          NaN          NaN          NaN           NaN        NaN         \n",
       "1  0.0          0.0          2.0          5.0           1.0        6.0        \n",
       "2  3.0          1.0          0.0          0.0           3.0        2.0        \n",
       "3  1.0          0.0          0.0          1.0           4.0        4.0        \n",
       "4  4.0          1.0          0.0          0.0           3.0        2.0        \n",
       "\n",
       "   EWDICHTE  INNENSTADT  GEBAEUDETYP_RASTER  KKK  MOBI_REGIO  \\\n",
       "0 NaN       NaN         NaN                 NaN  NaN           \n",
       "1  3.0       8.0         3.0                 2.0  1.0          \n",
       "2  4.0       4.0         4.0                 2.0  3.0          \n",
       "3  2.0       6.0         4.0                 0.0  4.0          \n",
       "4  5.0       1.0         5.0                 3.0  3.0          \n",
       "\n",
       "   ONLINE_AFFINITAET  REGIOTYP  KBA13_ANZAHL_PKW  PLZ8_ANTG1  PLZ8_ANTG2  \\\n",
       "0  1.0               NaN       NaN               NaN         NaN           \n",
       "1  3.0                3.0       963.0             2.0         3.0          \n",
       "2  2.0                2.0       712.0             3.0         3.0          \n",
       "3  1.0                0.0       596.0             2.0         2.0          \n",
       "4  5.0                5.0       435.0             2.0         4.0          \n",
       "\n",
       "   PLZ8_ANTG3  PLZ8_ANTG4  PLZ8_BAUMAX  PLZ8_HHZ  PLZ8_GBZ  ARBEIT  \\\n",
       "0 NaN         NaN         NaN          NaN       NaN       NaN       \n",
       "1  2.0         1.0         1.0          5.0       4.0       3.0      \n",
       "2  1.0         0.0         1.0          4.0       4.0       3.0      \n",
       "3  2.0         0.0         1.0          3.0       4.0       2.0      \n",
       "4  2.0         1.0         2.0          3.0       3.0       4.0      \n",
       "\n",
       "   ORTSGR_KLS9  RELAT_AB  \n",
       "0 NaN          NaN        \n",
       "1  5.0          4.0       \n",
       "2  5.0          2.0       \n",
       "3  3.0          3.0       \n",
       "4  6.0          5.0       "
      ]
     },
     "execution_count": 115,
     "metadata": {},
     "output_type": "execute_result"
    }
   ],
   "source": [
    "azdias.head()"
   ]
  },
  {
   "cell_type": "code",
   "execution_count": 116,
   "metadata": {
    "scrolled": true
   },
   "outputs": [
    {
     "data": {
      "text/html": [
       "<div>\n",
       "<style scoped>\n",
       "    .dataframe tbody tr th:only-of-type {\n",
       "        vertical-align: middle;\n",
       "    }\n",
       "\n",
       "    .dataframe tbody tr th {\n",
       "        vertical-align: top;\n",
       "    }\n",
       "\n",
       "    .dataframe thead th {\n",
       "        text-align: right;\n",
       "    }\n",
       "</style>\n",
       "<table border=\"1\" class=\"dataframe\">\n",
       "  <thead>\n",
       "    <tr style=\"text-align: right;\">\n",
       "      <th></th>\n",
       "      <th>attribute</th>\n",
       "      <th>information_level</th>\n",
       "      <th>type</th>\n",
       "      <th>missing_or_unknown</th>\n",
       "    </tr>\n",
       "  </thead>\n",
       "  <tbody>\n",
       "    <tr>\n",
       "      <th>0</th>\n",
       "      <td>AGER_TYP</td>\n",
       "      <td>person</td>\n",
       "      <td>categorical</td>\n",
       "      <td>[-1,0]</td>\n",
       "    </tr>\n",
       "    <tr>\n",
       "      <th>1</th>\n",
       "      <td>ALTERSKATEGORIE_GROB</td>\n",
       "      <td>person</td>\n",
       "      <td>ordinal</td>\n",
       "      <td>[-1,0,9]</td>\n",
       "    </tr>\n",
       "    <tr>\n",
       "      <th>2</th>\n",
       "      <td>ANREDE_KZ</td>\n",
       "      <td>person</td>\n",
       "      <td>categorical</td>\n",
       "      <td>[-1,0]</td>\n",
       "    </tr>\n",
       "    <tr>\n",
       "      <th>3</th>\n",
       "      <td>CJT_GESAMTTYP</td>\n",
       "      <td>person</td>\n",
       "      <td>categorical</td>\n",
       "      <td>[0]</td>\n",
       "    </tr>\n",
       "    <tr>\n",
       "      <th>4</th>\n",
       "      <td>FINANZ_MINIMALIST</td>\n",
       "      <td>person</td>\n",
       "      <td>ordinal</td>\n",
       "      <td>[-1]</td>\n",
       "    </tr>\n",
       "  </tbody>\n",
       "</table>\n",
       "</div>"
      ],
      "text/plain": [
       "              attribute information_level         type missing_or_unknown\n",
       "0  AGER_TYP              person            categorical  [-1,0]           \n",
       "1  ALTERSKATEGORIE_GROB  person            ordinal      [-1,0,9]         \n",
       "2  ANREDE_KZ             person            categorical  [-1,0]           \n",
       "3  CJT_GESAMTTYP         person            categorical  [0]              \n",
       "4  FINANZ_MINIMALIST     person            ordinal      [-1]             "
      ]
     },
     "execution_count": 116,
     "metadata": {},
     "output_type": "execute_result"
    }
   ],
   "source": [
    "feat_info.head()"
   ]
  },
  {
   "cell_type": "markdown",
   "metadata": {},
   "source": [
    "## Step 1: Preprocessing\n",
    "\n",
    "### Step 1.1: Assess Missing Data\n",
    "\n",
    "The feature summary file contains a summary of properties for each demographics data column. You will use this file to help you make cleaning decisions during this stage of the project. First of all, you should assess the demographics data in terms of missing data. Pay attention to the following points as you perform your analysis, and take notes on what you observe. Make sure that you fill in the **Discussion** cell with your findings and decisions at the end of each step that has one!\n",
    "\n",
    "#### Step 1.1.1: Convert Missing Value Codes to NaNs\n",
    "The fourth column of the feature attributes summary (loaded in above as `feat_info`) documents the codes from the data dictionary that indicate missing or unknown data. While the file encodes this as a list (e.g. `[-1,0]`), this will get read in as a string object. You'll need to do a little bit of parsing to make use of it to identify and clean the data. Convert data that matches a 'missing' or 'unknown' value code into a numpy NaN value. You might want to see how much data takes on a 'missing' or 'unknown' code, and how much data is naturally missing, as a point of interest.\n",
    "\n",
    "**As one more reminder, you are encouraged to add additional cells to break up your analysis into manageable chunks.**"
   ]
  },
  {
   "cell_type": "code",
   "execution_count": 117,
   "metadata": {
    "scrolled": true
   },
   "outputs": [],
   "source": [
    "# for each row in feat_info grab the attibute and then strip the elements out of the missing_or_unknown columns\n",
    "# locate the column in the dataset that matches the row attribute and filter out the missing elements.\n",
    "\n",
    "for obs in feat_info.iterrows():\n",
    "    col = (obs[1]['attribute'])\n",
    "    for i in obs[1]['missing_or_unknown'].strip('[').strip(']').split(','):\n",
    "        if i!='X' and i!='XX' and i!='':\n",
    "            azdias.loc[(azdias[col]==int(i)),[col]]=np.nan\n",
    "        elif i=='':\n",
    "            azdias.loc[(azdias[col].isnull()),[col]]=np.nan\n",
    "        else:\n",
    "            azdias.loc[(azdias[col]==i),[col]]=np.nan"
   ]
  },
  {
   "cell_type": "markdown",
   "metadata": {},
   "source": [
    "#### Step 1.1.2: Assess Missing Data in Each Column\n",
    "\n",
    "How much missing data is present in each column? There are a few columns that are outliers in terms of the proportion of values that are missing. You will want to use matplotlib's [`hist()`](https://matplotlib.org/api/_as_gen/matplotlib.pyplot.hist.html) function to visualize the distribution of missing value counts to find these columns. Identify and document these columns. While some of these columns might have justifications for keeping or re-encoding the data, for this project you should just remove them from the dataframe. (Feel free to make remarks about these outlier columns in the discussion, however!)\n",
    "\n",
    "For the remaining features, are there any patterns in which columns have, or share, missing data?"
   ]
  },
  {
   "cell_type": "code",
   "execution_count": 118,
   "metadata": {
    "scrolled": false
   },
   "outputs": [
    {
     "data": {
      "text/plain": [
       "<AxesSubplot:>"
      ]
     },
     "execution_count": 118,
     "metadata": {},
     "output_type": "execute_result"
    },
    {
     "data": {
      "image/png": "[encoded data removed]",
      "text/plain": [
       "<Figure size 1152x720 with 1 Axes>"
      ]
     },
     "metadata": {
      "needs_background": "light"
     },
     "output_type": "display_data"
    }
   ],
   "source": [
    "# Perform an assessment of how much missing data there is in each column of the\n",
    "# dataset.\n",
    "\n",
    "missing_chart = azdias.isna().mean()\n",
    "missing_chart.sort_values(ascending=False).plot(kind='bar', figsize=(16,10))"
   ]
  },
  {
   "cell_type": "code",
   "execution_count": 119,
   "metadata": {
    "scrolled": true
   },
   "outputs": [],
   "source": [
    "# Remove the outlier columns from the dataset. (You'll perform other data\n",
    "# engineering tasks such as re-encoding and imputation later.)\n",
    "\n",
    "# Only keep columns that have at least 70% of data\n",
    "new_azdias = azdias.dropna(thresh=(len(azdias) * .7), axis=1)\n"
   ]
  },
  {
   "cell_type": "code",
   "execution_count": 120,
   "metadata": {
    "scrolled": true
   },
   "outputs": [
    {
     "data": {
      "text/plain": [
       "Index(['AGER_TYP', 'GEBURTSJAHR', 'TITEL_KZ', 'ALTER_HH', 'KK_KUNDENTYP',\n",
       "       'KBA05_BAUMAX'],\n",
       "      dtype='object')"
      ]
     },
     "execution_count": 120,
     "metadata": {},
     "output_type": "execute_result"
    }
   ],
   "source": [
    "# Dropped columns that had less than 70% of data\n",
    "dropped_azdias = azdias.loc[: , azdias.isna().mean() >= .3]\n",
    "dropped_azdias.columns"
   ]
  },
  {
   "cell_type": "code",
   "execution_count": 121,
   "metadata": {
    "scrolled": true
   },
   "outputs": [
    {
     "data": {
      "text/plain": [
       "<AxesSubplot:>"
      ]
     },
     "execution_count": 121,
     "metadata": {},
     "output_type": "execute_result"
    },
    {
     "data": {
      "image/png": "[encoded data removed]",
      "text/plain": [
       "<Figure size 1152x720 with 1 Axes>"
      ]
     },
     "metadata": {
      "needs_background": "light"
     },
     "output_type": "display_data"
    }
   ],
   "source": [
    "# Updated chart showing outlier columns with missing data removed\n",
    "\n",
    "missing_chart = new_azdias.isna().mean()\n",
    "missing_chart.sort_values(ascending=False).plot(kind='bar', figsize=(16,10))"
   ]
  },
  {
   "cell_type": "markdown",
   "metadata": {},
   "source": [
    "#### Discussion 1.1.2: Assess Missing Data in Each Column\n",
    "\n",
    "There were 6 columns that had more than 30% of rows missing data.\n",
    "Columns that were removed for having more than 30% missing data were:\n",
    "\n",
    "'AGER_TYP', 'GEBURTSJAHR', 'TITEL_KZ', 'ALTER_HH', 'KK_KUNDENTYP', 'KBA05_BAUMAX'\n",
    "\n"
   ]
  },
  {
   "cell_type": "markdown",
   "metadata": {},
   "source": [
    "#### Step 1.1.3: Assess Missing Data in Each Row\n",
    "\n",
    "Now, you'll perform a similar assessment for the rows of the dataset. How much data is missing in each row? As with the columns, you should see some groups of points that have a very different numbers of missing values. Divide the data into two subsets: one for data points that are above some threshold for missing values, and a second subset for points below that threshold.\n",
    "\n",
    "In order to know what to do with the outlier rows, we should see if the distribution of data values on columns that are not missing data (or are missing very little data) are similar or different between the two groups. Select at least five of these columns and compare the distribution of values.\n",
    "- You can use seaborn's [`countplot()`](https://seaborn.pydata.org/generated/seaborn.countplot.html) function to create a bar chart of code frequencies and matplotlib's [`subplot()`](https://matplotlib.org/api/_as_gen/matplotlib.pyplot.subplot.html) function to put bar charts for the two subplots side by side.\n",
    "- To reduce repeated code, you might want to write a function that can perform this comparison, taking as one of its arguments a column to be compared.\n",
    "\n",
    "Depending on what you observe in your comparison, this will have implications on how you approach your conclusions later in the analysis. If the distributions of non-missing features look similar between the data with many missing values and the data with few or no missing values, then we could argue that simply dropping those points from the analysis won't present a major issue. On the other hand, if the data with many missing values looks very different from the data with few or no missing values, then we should make a note on those data as special. We'll revisit these data later on. **Either way, you should continue your analysis for now using just the subset of the data with few or no missing values.**"
   ]
  },
  {
   "cell_type": "code",
   "execution_count": 122,
   "metadata": {
    "scrolled": true
   },
   "outputs": [],
   "source": [
    "# How much data is missing in each row of the dataset?\n",
    "pd.set_option('display.max_rows', None)\n",
    "pd.set_option('display.max_columns', None)\n",
    "pd.set_option('display.width', None)\n",
    "pd.set_option('display.max_colwidth', -1)\n",
    "\n"
   ]
  },
  {
   "cell_type": "code",
   "execution_count": 123,
   "metadata": {
    "scrolled": true
   },
   "outputs": [
    {
     "data": {
      "text/plain": [
       "<AxesSubplot:>"
      ]
     },
     "execution_count": 123,
     "metadata": {},
     "output_type": "execute_result"
    },
    {
     "data": {
      "image/png": "[encoded data removed]",
      "text/plain": [
       "<Figure size 432x288 with 1 Axes>"
      ]
     },
     "metadata": {
      "needs_background": "light"
     },
     "output_type": "display_data"
    }
   ],
   "source": [
    "\n",
    "\n",
    "new_azdias.isna().mean().hist()"
   ]
  },
  {
   "cell_type": "code",
   "execution_count": 124,
   "metadata": {
    "scrolled": false
   },
   "outputs": [],
   "source": [
    "# Write code to divide the data into two subsets based on the number of missing\n",
    "# values in each row.\n",
    "\n",
    "# Add column to show % of missing data in each row\n",
    "def data_stats_row(df):\n",
    "    df['% of Missing Values'] = df.isnull().sum(axis=1)/df.shape[1]\n",
    "    return df"
   ]
  },
  {
   "cell_type": "code",
   "execution_count": 125,
   "metadata": {
    "scrolled": true
   },
   "outputs": [],
   "source": [
    "# Call function to add missing data % column\n",
    "new_azdias = data_stats_row(new_azdias)"
   ]
  },
  {
   "cell_type": "code",
   "execution_count": 126,
   "metadata": {
    "scrolled": true
   },
   "outputs": [],
   "source": [
    "# Divide data into dataframe with missing data and one without missing data\n",
    "azdias_row_lt00 = new_azdias[new_azdias['% of Missing Values'] == .0000]\n",
    "azdias_row_gt00 = new_azdias[new_azdias['% of Missing Values'] > .0000]"
   ]
  },
  {
   "cell_type": "code",
   "execution_count": 127,
   "metadata": {
    "scrolled": true
   },
   "outputs": [
    {
     "data": {
      "text/plain": [
       "(623209, 80)"
      ]
     },
     "execution_count": 127,
     "metadata": {},
     "output_type": "execute_result"
    }
   ],
   "source": [
    "azdias_row_lt00.shape"
   ]
  },
  {
   "cell_type": "code",
   "execution_count": 128,
   "metadata": {
    "scrolled": true
   },
   "outputs": [
    {
     "data": {
      "text/plain": [
       "['ALTERSKATEGORIE_GROB',\n",
       " 'ANREDE_KZ',\n",
       " 'CJT_GESAMTTYP',\n",
       " 'FINANZ_MINIMALIST',\n",
       " 'FINANZ_SPARER']"
      ]
     },
     "execution_count": 128,
     "metadata": {},
     "output_type": "execute_result"
    }
   ],
   "source": [
    "# five columns without missing data\n",
    "five_col = azdias_row_lt00.isna().mean().head()\n",
    "five_col = list(five_col.index.values)\n",
    "five_col"
   ]
  },
  {
   "cell_type": "code",
   "execution_count": 129,
   "metadata": {
    "scrolled": false
   },
   "outputs": [
    {
     "data": {
      "image/png": "[encoded data removed]",
      "text/plain": [
       "<Figure size 432x288 with 2 Axes>"
      ]
     },
     "metadata": {
      "needs_background": "light"
     },
     "output_type": "display_data"
    },
    {
     "data": {
      "image/png": "[encoded data removed]",
      "text/plain": [
       "<Figure size 432x288 with 2 Axes>"
      ]
     },
     "metadata": {
      "needs_background": "light"
     },
     "output_type": "display_data"
    },
    {
     "data": {
      "image/png": "[encoded data removed]",
      "text/plain": [
       "<Figure size 432x288 with 2 Axes>"
      ]
     },
     "metadata": {
      "needs_background": "light"
     },
     "output_type": "display_data"
    },
    {
     "data": {
      "image/png": "[encoded data removed]",
      "text/plain": [
       "<Figure size 432x288 with 2 Axes>"
      ]
     },
     "metadata": {
      "needs_background": "light"
     },
     "output_type": "display_data"
    },
    {
     "data": {
      "image/png": "[encoded data removed]",
      "text/plain": [
       "<Figure size 432x288 with 2 Axes>"
      ]
     },
     "metadata": {
      "needs_background": "light"
     },
     "output_type": "display_data"
    }
   ],
   "source": [
    "# Show histograms of five columns with and without missing data\n",
    "\n",
    "for i in range(5):\n",
    "    fig, axs = plt.subplots(2, sharex=True)\n",
    "    fig.suptitle(five_col[i])\n",
    "    axs[0].hist(azdias_row_lt00[five_col[i]])\n",
    "    axs[0].set_title('0 NaN')\n",
    "    axs[1].hist(azdias_row_gt00[five_col[i]]);\n",
    "    axs[1].set_title('with NaN')"
   ]
  },
  {
   "cell_type": "markdown",
   "metadata": {},
   "source": [
    "#### Discussion 1.1.3: Assess Missing Data in Each Row\n",
    "\n",
    "I separated the data into no missing values and with missing values.  The differences of the plots for some columns look different and some look similar. "
   ]
  },
  {
   "cell_type": "markdown",
   "metadata": {},
   "source": [
    "### Step 1.2: Select and Re-Encode Features\n",
    "\n",
    "Checking for missing data isn't the only way in which you can prepare a dataset for analysis. Since the unsupervised learning techniques to be used will only work on data that is encoded numerically, you need to make a few encoding changes or additional assumptions to be able to make progress. In addition, while almost all of the values in the dataset are encoded using numbers, not all of them represent numeric values. Check the third column of the feature summary (`feat_info`) for a summary of types of measurement.\n",
    "- For numeric and interval data, these features can be kept without changes.\n",
    "- Most of the variables in the dataset are ordinal in nature. While ordinal values may technically be non-linear in spacing, make the simplifying assumption that the ordinal variables can be treated as being interval in nature (that is, kept without any changes).\n",
    "- Special handling may be necessary for the remaining two variable types: categorical, and 'mixed'.\n",
    "\n",
    "In the first two parts of this sub-step, you will perform an investigation of the categorical and mixed-type features and make a decision on each of them, whether you will keep, drop, or re-encode each. Then, in the last part, you will create a new data frame with only the selected and engineered columns.\n",
    "\n",
    "Data wrangling is often the trickiest part of the data analysis process, and there's a lot of it to be done here. But stick with it: once you're done with this step, you'll be ready to get to the machine learning parts of the project!"
   ]
  },
  {
   "cell_type": "code",
   "execution_count": 130,
   "metadata": {
    "scrolled": true
   },
   "outputs": [
    {
     "name": "stdout",
     "output_type": "stream",
     "text": [
      "ordinal        49\n",
      "categorical    18\n",
      "mixed          6 \n",
      "numeric        6 \n",
      "Name: type, dtype: int64\n"
     ]
    }
   ],
   "source": [
    "# How many features are there of each data type?\n",
    "feat_info_reduced = feat_info[feat_info['attribute'].isin(new_azdias.columns)]\n",
    "feature_type_summary = feat_info_reduced['type'].value_counts()\n",
    "print(feature_type_summary)"
   ]
  },
  {
   "cell_type": "markdown",
   "metadata": {},
   "source": [
    "#### Step 1.2.1: Re-Encode Categorical Features\n",
    "\n",
    "For categorical data, you would ordinarily need to encode the levels as dummy variables. Depending on the number of categories, perform one of the following:\n",
    "- For binary (two-level) categoricals that take numeric values, you can keep them without needing to do anything.\n",
    "- There is one binary variable that takes on non-numeric values. For this one, you need to re-encode the values as numbers or create a dummy variable.\n",
    "- For multi-level categoricals (three or more values), you can choose to encode the values using multiple dummy variables (e.g. via [OneHotEncoder](http://scikit-learn.org/stable/modules/generated/sklearn.preprocessing.OneHotEncoder.html)), or (to keep things straightforward) just drop them from the analysis. As always, document your choices in the Discussion section."
   ]
  },
  {
   "cell_type": "code",
   "execution_count": 131,
   "metadata": {
    "scrolled": false
   },
   "outputs": [
    {
     "data": {
      "text/plain": [
       "2     ANREDE_KZ       \n",
       "3     CJT_GESAMTTYP   \n",
       "10    FINANZTYP       \n",
       "12    GFK_URLAUBERTYP \n",
       "13    GREEN_AVANTGARDE\n",
       "17    LP_FAMILIE_FEIN \n",
       "18    LP_FAMILIE_GROB \n",
       "19    LP_STATUS_FEIN  \n",
       "20    LP_STATUS_GROB  \n",
       "21    NATIONALITAET_KZ\n",
       "38    SHOPPER_TYP     \n",
       "39    SOHO_KZ         \n",
       "41    VERS_TYP        \n",
       "42    ZABEOTYP        \n",
       "52    GEBAEUDETYP     \n",
       "55    OST_WEST_KZ     \n",
       "57    CAMEO_DEUG_2015 \n",
       "58    CAMEO_DEU_2015  \n",
       "Name: attribute, dtype: object"
      ]
     },
     "execution_count": 131,
     "metadata": {},
     "output_type": "execute_result"
    }
   ],
   "source": [
    "# Grab column names with categorical data type\n",
    "cat_data = feat_info_reduced[feat_info_reduced['type'] == 'categorical']\n",
    "cat_data['attribute']"
   ]
  },
  {
   "cell_type": "code",
   "execution_count": 132,
   "metadata": {
    "scrolled": false
   },
   "outputs": [],
   "source": [
    "# If the column is more than a binary categorical then drop it\n",
    "\n",
    "for f in cat_data.attribute:\n",
    "    vcount = list(new_azdias[f].value_counts())\n",
    "    if len(vcount) > 2:\n",
    "        new_azdias.drop(f, axis=1, inplace=True)\n",
    "\n",
    "# Update the feature information dataset        \n",
    "feat_info_reduced = feat_info[feat_info['attribute'].isin(new_azdias.columns)]\n",
    "    \n"
   ]
  },
  {
   "cell_type": "code",
   "execution_count": 133,
   "metadata": {
    "scrolled": true
   },
   "outputs": [],
   "source": [
    "# Make sure all rows with missing values are dropped\n",
    "new_azdias = new_azdias.dropna()\n",
    "\n",
    "# Drop the column with missing values %, no longer needed \n",
    "new_azdias.drop('% of Missing Values', inplace=True, axis=1)"
   ]
  },
  {
   "cell_type": "code",
   "execution_count": 134,
   "metadata": {
    "scrolled": true
   },
   "outputs": [],
   "source": [
    "# update the categorical data list\n",
    "cat_data = feat_info_reduced[feat_info_reduced['type'] == 'categorical']"
   ]
  },
  {
   "cell_type": "code",
   "execution_count": 135,
   "metadata": {
    "scrolled": true
   },
   "outputs": [
    {
     "name": "stdout",
     "output_type": "stream",
     "text": [
      "2.0    318591\n",
      "1.0    304618\n",
      "Name: ANREDE_KZ, dtype: int64\n",
      "0.0    476988\n",
      "1.0    146221\n",
      "Name: GREEN_AVANTGARDE, dtype: int64\n",
      "0.0    617913\n",
      "1.0    5296  \n",
      "Name: SOHO_KZ, dtype: int64\n",
      "2.0    331723\n",
      "1.0    291486\n",
      "Name: VERS_TYP, dtype: int64\n",
      "W    490879\n",
      "O    132330\n",
      "Name: OST_WEST_KZ, dtype: int64\n"
     ]
    }
   ],
   "source": [
    "# Show the values and types of data in each categorical\n",
    "\n",
    "for f in cat_data.attribute:\n",
    "    vc = new_azdias[f].value_counts()\n",
    "    print(vc)"
   ]
  },
  {
   "cell_type": "code",
   "execution_count": 136,
   "metadata": {
    "scrolled": true
   },
   "outputs": [],
   "source": [
    "# Assess categorical variables: which are binary, which are multi-level, and\n",
    "# OST_WEST_KZ needs to be re-encoded?\n",
    "new_azdias.OST_WEST_KZ.replace(to_replace = 'W', value = 1.0, inplace=True)\n",
    "new_azdias.OST_WEST_KZ.replace(to_replace = 'O', value = 0.0, inplace=True)\n"
   ]
  },
  {
   "cell_type": "markdown",
   "metadata": {},
   "source": [
    "#### Discussion 1.2.1: Re-Encode Categorical Features\n",
    "\n",
    "(Double-click this cell and replace this text with your own text, reporting your findings and decisions regarding categorical features. Which ones did you keep, which did you drop, and what engineering steps did you perform?)"
   ]
  },
  {
   "cell_type": "markdown",
   "metadata": {},
   "source": [
    "#### Step 1.2.2: Engineer Mixed-Type Features\n",
    "\n",
    "There are a handful of features that are marked as \"mixed\" in the feature summary that require special treatment in order to be included in the analysis. There are two in particular that deserve attention; the handling of the rest are up to your own choices:\n",
    "- \"PRAEGENDE_JUGENDJAHRE\" combines information on three dimensions: generation by decade, movement (mainstream vs. avantgarde), and nation (east vs. west). While there aren't enough levels to disentangle east from west, you should create two new variables to capture the other two dimensions: an interval-type variable for decade, and a binary variable for movement.\n",
    "- \"CAMEO_INTL_2015\" combines information on two axes: wealth and life stage. Break up the two-digit codes by their 'tens'-place and 'ones'-place digits into two new ordinal variables (which, for the purposes of this project, is equivalent to just treating them as their raw numeric values).\n",
    "- If you decide to keep or engineer new features around the other mixed-type features, make sure you note your steps in the Discussion section.\n",
    "\n",
    "Be sure to check `Data_Dictionary.md` for the details needed to finish these tasks."
   ]
  },
  {
   "cell_type": "code",
   "execution_count": 137,
   "metadata": {
    "scrolled": true
   },
   "outputs": [],
   "source": [
    "# Investigate \"PRAEGENDE_JUGENDJAHRE\" and engineer two new variables."
   ]
  },
  {
   "cell_type": "code",
   "execution_count": 138,
   "metadata": {
    "scrolled": true
   },
   "outputs": [],
   "source": [
    "# Dictionary for PRAEGENDE_JUGENDJAHRE values\n",
    "pj = {\n",
    "    1: [\"40s\", \"Mainstream\"],\n",
    "    2: [\"40s\", \"Avantgarde\"],\n",
    "    3: [\"50s\", \"Mainstream\"],\n",
    "    4: [\"50s\", \"Avantgarde\"],\n",
    "    5: [\"60s\", \"Mainstream\"],\n",
    "    6: [\"60s\", \"Avantgarde\"],\n",
    "    7: [\"60s\", \"Avantgarde\"],\n",
    "    8: [\"70s\", \"Mainstream\"],\n",
    "    9: [\"70s\", \"Avantgarde\"],\n",
    "    10: [\"80s\", \"Mainstream\"],\n",
    "    11: [\"80s\", \"Avantgarde\"],\n",
    "    12: [\"80s\", \"Mainstream\"],\n",
    "    13: [\"80s\", \"Avantgarde\"],\n",
    "    14: [\"90s\", \"Mainstream\"],\n",
    "    15: [\"90s\", \"Avantgarde\"]\n",
    "}"
   ]
  },
  {
   "cell_type": "code",
   "execution_count": 139,
   "metadata": {
    "scrolled": true
   },
   "outputs": [],
   "source": [
    "# helper function to get the decade from dictionary and return\n",
    "def get_decade(row):\n",
    "    return pj[int(row.PRAEGENDE_JUGENDJAHRE)][0]"
   ]
  },
  {
   "cell_type": "code",
   "execution_count": 140,
   "metadata": {
    "scrolled": true
   },
   "outputs": [],
   "source": [
    "# helper function to get the type from dictionary and return\n",
    "def get_type(row):\n",
    "    return pj[int(row.PRAEGENDE_JUGENDJAHRE)][1]"
   ]
  },
  {
   "cell_type": "code",
   "execution_count": 141,
   "metadata": {
    "scrolled": false
   },
   "outputs": [],
   "source": [
    "# create 2 columns and encode with values\n",
    "new_azdias['pj_decade'] = new_azdias.apply (lambda row: get_decade(row), axis=1)\n",
    "new_azdias['pj_type'] = new_azdias.apply (lambda row: get_type(row), axis=1)"
   ]
  },
  {
   "cell_type": "code",
   "execution_count": 142,
   "metadata": {
    "scrolled": true
   },
   "outputs": [],
   "source": [
    "# Investigate \"CAMEO_INTL_2015\" and engineer two new variables.\n",
    "\n",
    "# Dictionary for CAMEO_INTL_2015 values\n",
    "cam_dict = {\n",
    "    11: [\"Wealthy Households\" , \"Pre-Family Couples & Singles\"],\n",
    "    12: [\"Wealthy Households\", \"Young Couples With Children\"],\n",
    "    13: [\"Wealthy Households\" , \"Families With School Age Children\"],\n",
    "    14: [\"Wealthy Households\" , \"Older Families &  Mature Couples\"],\n",
    "    15: [\"Wealthy Households\" , \"Elders In Retirement\"],\n",
    "    21: [\"Prosperous Households\" , \"Pre-Family Couples & Singles\"],\n",
    "    22: [\"Prosperous Households\" , \"Young Couples With Children\"],\n",
    "    23: [\"Prosperous Households\" , \"Families With School Age Children\"],\n",
    "    24: [\"Prosperous Households\" , \"Older Families & Mature Couples\"],\n",
    "    25: [\"Prosperous Households\" , \"Elders In Retirement\"],\n",
    "    31: [\"Comfortable Households\" , \"Pre-Family Couples & Singles\"],\n",
    "    32: [\"Comfortable Households\" , \"Young Couples With Children\"],\n",
    "    33: [\"Comfortable Households\" , \"Families With School Age Children\"],\n",
    "    34: [\"Comfortable Households\" , \"Older Families & Mature Couples\"],\n",
    "    35: [\"Comfortable Households\" , \"Elders In Retirement\"],\n",
    "    41: [\"Less Affluent Households\" , \"Pre-Family Couples & Singles\"],\n",
    "    42: [\"Less Affluent Households\" , \"Young Couples With Children\"],\n",
    "    43: [\"Less Affluent Households\" , \"Families With School Age Children\"],\n",
    "    44: [\"Less Affluent Households\" , \"Older Families & Mature Couples\"],\n",
    "    45: [\"Less Affluent Households\" , \"Elders In Retirement\"],\n",
    "    51: [\"Poorer Households\" , \"Pre-Family Couples & Singles\"],\n",
    "    52: [\"Poorer Households\" , \"Young Couples With Children\"],\n",
    "    53: [\"Poorer Households\" , \"Families With School Age Children\"],\n",
    "    54: [\"Poorer Households\" , \"Older Families & Mature Couples\"],\n",
    "    55: [\"Poorer Households\" , \"Elders In Retirement\"]\n",
    "}    "
   ]
  },
  {
   "cell_type": "code",
   "execution_count": 143,
   "metadata": {
    "scrolled": true
   },
   "outputs": [],
   "source": [
    "# helper function to get the type from dictionary and return\n",
    "def get_wealth(row):\n",
    "    return cam_dict[int(row.CAMEO_INTL_2015)][0]"
   ]
  },
  {
   "cell_type": "code",
   "execution_count": 144,
   "metadata": {
    "scrolled": true
   },
   "outputs": [],
   "source": [
    "# helper function to get the type from dictionary and return\n",
    "def get_fam_status(row):\n",
    "    return cam_dict[int(row.CAMEO_INTL_2015)][1]"
   ]
  },
  {
   "cell_type": "code",
   "execution_count": 145,
   "metadata": {
    "scrolled": true
   },
   "outputs": [],
   "source": [
    "# create 2 columns and encode with values\n",
    "new_azdias['cam_wealth'] = new_azdias.apply (lambda row: get_wealth(row), axis=1)\n",
    "new_azdias['cam_fam_status'] = new_azdias.apply (lambda row: get_fam_status(row), axis=1)"
   ]
  },
  {
   "cell_type": "code",
   "execution_count": 146,
   "metadata": {
    "scrolled": true
   },
   "outputs": [],
   "source": [
    "# Remove original columns \n",
    "new_azdias.drop(\"PRAEGENDE_JUGENDJAHRE\", axis=1, inplace=True)\n",
    "new_azdias.drop(\"CAMEO_INTL_2015\", axis=1, inplace=True)"
   ]
  },
  {
   "cell_type": "markdown",
   "metadata": {},
   "source": [
    "#### Discussion 1.2.2: Engineer Mixed-Type Features\n",
    "\n",
    "(Double-click this cell and replace this text with your own text, reporting your findings and decisions regarding mixed-value features. Which ones did you keep, which did you drop, and what engineering steps did you perform?)\n",
    "\n",
    "Total of 18 categorical features:\n",
    "ANREDE_KZ       \n",
    "- CJT_GESAMTTYP   \n",
    "- FINANZTYP       \n",
    "- GFK_URLAUBERTYP \n",
    "- GREEN_AVANTGARDE\n",
    "- LP_FAMILIE_FEIN \n",
    "- LP_FAMILIE_GROB \n",
    "- LP_STATUS_FEIN  \n",
    "- LP_STATUS_GROB  \n",
    "- NATIONALITAET_KZ\n",
    "- SHOPPER_TYP     \n",
    "- SOHO_KZ         \n",
    "- VERS_TYP        \n",
    "- ZABEOTYP        \n",
    "- GEBAEUDETYP     \n",
    "- OST_WEST_KZ     \n",
    "- CAMEO_DEUG_2015 \n",
    "- CAMEO_DEU_2015 \n",
    "\n",
    "Of the 18 only five were binary and the rest were dropped:\n",
    "- ANREDE_KZ\n",
    "- GREEN_AVANTGARDE\n",
    "- SOHO_KZ\n",
    "- VERS_TYP\n",
    "- OST_WEST_KZ\n",
    "\n",
    "The OST_WEST_KZ column was the only column from the five that was not numerical and had to be reencoded into 1s and 0s.\n",
    "\n",
    "The columns PRAEGENDE_JUGENDJAHRE and CAMEO_INTL_2015 were engineered into two columns each. PRAEGENDE_JUGENDJAHRE was transformed into 'pj_decade' and 'pj_type'.  CAMEO_INTL_2015 was transformed into 'cam_wealth' and 'cam_fam_status'.  Then the original columns were dropped and in the next step the new columns were one hot encoded."
   ]
  },
  {
   "cell_type": "markdown",
   "metadata": {},
   "source": [
    "#### Step 1.2.3: Complete Feature Selection\n",
    "\n",
    "In order to finish this step up, you need to make sure that your data frame now only has the columns that you want to keep. To summarize, the dataframe should consist of the following:\n",
    "- All numeric, interval, and ordinal type columns from the original dataset.\n",
    "- Binary categorical features (all numerically-encoded).\n",
    "- Engineered features from other multi-level categorical features and mixed features.\n",
    "\n",
    "Make sure that for any new columns that you have engineered, that you've excluded the original columns from the final dataset. Otherwise, their values will interfere with the analysis later on the project. For example, you should not keep \"PRAEGENDE_JUGENDJAHRE\", since its values won't be useful for the algorithm: only the values derived from it in the engineered features you created should be retained. As a reminder, your data should only be from **the subset with few or no missing values**."
   ]
  },
  {
   "cell_type": "code",
   "execution_count": 147,
   "metadata": {
    "scrolled": true
   },
   "outputs": [
    {
     "data": {
      "text/plain": [
       "ALTERSKATEGORIE_GROB     0\n",
       "ANREDE_KZ                0\n",
       "FINANZ_MINIMALIST        0\n",
       "FINANZ_SPARER            0\n",
       "FINANZ_VORSORGER         0\n",
       "FINANZ_ANLEGER           0\n",
       "FINANZ_UNAUFFAELLIGER    0\n",
       "FINANZ_HAUSBAUER         0\n",
       "GREEN_AVANTGARDE         0\n",
       "HEALTH_TYP               0\n",
       "LP_LEBENSPHASE_FEIN      0\n",
       "LP_LEBENSPHASE_GROB      0\n",
       "RETOURTYP_BK_S           0\n",
       "SEMIO_SOZ                0\n",
       "SEMIO_FAM                0\n",
       "SEMIO_REL                0\n",
       "SEMIO_MAT                0\n",
       "SEMIO_VERT               0\n",
       "SEMIO_LUST               0\n",
       "SEMIO_ERL                0\n",
       "SEMIO_KULT               0\n",
       "SEMIO_RAT                0\n",
       "SEMIO_KRIT               0\n",
       "SEMIO_DOM                0\n",
       "SEMIO_KAEM               0\n",
       "SEMIO_PFLICHT            0\n",
       "SEMIO_TRADV              0\n",
       "SOHO_KZ                  0\n",
       "VERS_TYP                 0\n",
       "ANZ_PERSONEN             0\n",
       "ANZ_TITEL                0\n",
       "HH_EINKOMMEN_SCORE       0\n",
       "W_KEIT_KIND_HH           0\n",
       "WOHNDAUER_2008           0\n",
       "ANZ_HAUSHALTE_AKTIV      0\n",
       "ANZ_HH_TITEL             0\n",
       "KONSUMNAEHE              0\n",
       "MIN_GEBAEUDEJAHR         0\n",
       "OST_WEST_KZ              0\n",
       "WOHNLAGE                 0\n",
       "KBA05_ANTG1              0\n",
       "KBA05_ANTG2              0\n",
       "KBA05_ANTG3              0\n",
       "KBA05_ANTG4              0\n",
       "KBA05_GBZ                0\n",
       "BALLRAUM                 0\n",
       "EWDICHTE                 0\n",
       "INNENSTADT               0\n",
       "GEBAEUDETYP_RASTER       0\n",
       "KKK                      0\n",
       "MOBI_REGIO               0\n",
       "ONLINE_AFFINITAET        0\n",
       "REGIOTYP                 0\n",
       "KBA13_ANZAHL_PKW         0\n",
       "PLZ8_ANTG1               0\n",
       "PLZ8_ANTG2               0\n",
       "PLZ8_ANTG3               0\n",
       "PLZ8_ANTG4               0\n",
       "PLZ8_BAUMAX              0\n",
       "PLZ8_HHZ                 0\n",
       "PLZ8_GBZ                 0\n",
       "ARBEIT                   0\n",
       "ORTSGR_KLS9              0\n",
       "RELAT_AB                 0\n",
       "pj_decade                0\n",
       "pj_type                  0\n",
       "cam_wealth               0\n",
       "cam_fam_status           0\n",
       "dtype: int64"
      ]
     },
     "execution_count": 147,
     "metadata": {},
     "output_type": "execute_result"
    }
   ],
   "source": [
    "# If there are other re-engineering tasks you need to perform, make sure you\n",
    "# take care of them here. (Dealing with missing data will come in step 2.1.)\n",
    "\n",
    "new_azdias.isna().sum()"
   ]
  },
  {
   "cell_type": "code",
   "execution_count": 148,
   "metadata": {
    "scrolled": true
   },
   "outputs": [],
   "source": [
    "# Do whatever you need to in order to ensure that the dataframe only contains\n",
    "# the columns that should be passed to the algorithm functions.\n",
    "\n",
    "# One hot encode the four new categorical columns for standardization\n",
    "new_azdias = pd.get_dummies(new_azdias, columns=['pj_decade', 'pj_type', 'cam_wealth', 'cam_fam_status'])\n"
   ]
  },
  {
   "cell_type": "markdown",
   "metadata": {},
   "source": [
    "### Step 1.3: Create a Cleaning Function\n",
    "\n",
    "Even though you've finished cleaning up the general population demographics data, it's important to look ahead to the future and realize that you'll need to perform the same cleaning steps on the customer demographics data. In this substep, complete the function below to execute the main feature selection, encoding, and re-engineering steps you performed above. Then, when it comes to looking at the customer data in Step 3, you can just run this function on that DataFrame to get the trimmed dataset in a single step."
   ]
  },
  {
   "cell_type": "code",
   "execution_count": 149,
   "metadata": {
    "scrolled": true
   },
   "outputs": [],
   "source": [
    "def clean_data(data):\n",
    "    \"\"\"\n",
    "    Perform feature trimming, re-encoding, and engineering for demographics\n",
    "    data\n",
    "    \n",
    "    INPUT: Demographics DataFrame\n",
    "    OUTPUT: Trimmed and cleaned demographics DataFrame\n",
    "    \"\"\"\n",
    "\n",
    "    feat_info = pd.read_csv(\"AZDIAS_Feature_Summary.csv\", sep=';')\n",
    "    \n",
    "    \n",
    "    # Put in code here to execute all main cleaning steps:\n",
    "    \n",
    "    \n",
    "#------------------------------------------------------------------------------------\n",
    "# convert missing value codes into NaNs, \n",
    "#------------------------------------------------------------------------------------ \n",
    "    \n",
    "    for obs in feat_info.iterrows():\n",
    "        col = (obs[1]['attribute'])\n",
    "        for i in obs[1]['missing_or_unknown'].strip('[').strip(']').split(','):\n",
    "            if i!='X' and i!='XX' and i!='':\n",
    "                data.loc[(data[col]==int(i)),[col]]=np.nan\n",
    "            elif i=='':\n",
    "                data.loc[(data[col].isnull()),[col]]=np.nan\n",
    "            else:\n",
    "                data.loc[(data[col]==i),[col]]=np.nan\n",
    "                \n",
    "\n",
    "                \n",
    "#------------------------------------------------------------------------------------\n",
    "# remove selected columns and rows, ...\n",
    "#------------------------------------------------------------------------------------ \n",
    "            \n",
    "    new_df = data.dropna(thresh=(len(data) * .7), axis=1)\n",
    "    \n",
    "    print(new_df.shape)\n",
    "    \n",
    "    def data_stats_row(d):\n",
    "        d['% of Missing Values'] = d.isnull().sum(axis=1)/d.shape[1]\n",
    "        return d\n",
    "\n",
    "    new_df = data_stats_row(new_df)\n",
    "    new_df = new_df[new_df['% of Missing Values'] == .0000]\n",
    "    \n",
    "    \n",
    "    \n",
    "#------------------------------------------------------------------------------------\n",
    "# select, re-encode, and engineer column values.\n",
    "#------------------------------------------------------------------------------------ \n",
    "\n",
    "    feat_info_reduced = feat_info[feat_info['attribute'].isin(new_df.columns)]\n",
    "    cat_data = feat_info_reduced[feat_info_reduced['type'] == 'categorical']\n",
    "\n",
    "    for f in cat_data.attribute:\n",
    "        vcount = list(new_df[f].value_counts())\n",
    "        if len(vcount) > 2:\n",
    "            new_df.drop(f, axis=1, inplace=True)\n",
    "\n",
    "        \n",
    "    feat_info_reduced = feat_info[feat_info['attribute'].isin(new_df.columns)]\n",
    "    \n",
    "    if \"OST_WEST_KZ\" in new_df.columns:\n",
    "        new_df.OST_WEST_KZ.replace(to_replace = 'W', value = 1.0, inplace=True)\n",
    "        new_df.OST_WEST_KZ.replace(to_replace = 'O', value = 0.0, inplace=True)\n",
    "    \n",
    "    if \"PRAEGENDE_JUGENDJAHRE\" in new_df.columns:\n",
    "        new_df['PRAEGENDE_JUGENDJAHRE'] = new_df['PRAEGENDE_JUGENDJAHRE'].astype(np.int64)\n",
    "    \n",
    "    \n",
    "        pj = {\n",
    "            1: [\"40s\", \"Mainstream\"],\n",
    "            2: [\"40s\", \"Avantgarde\"],\n",
    "            3: [\"50s\", \"Mainstream\"],\n",
    "            4: [\"50s\", \"Avantgarde\"],\n",
    "            5: [\"60s\", \"Mainstream\"],\n",
    "            6: [\"60s\", \"Avantgarde\"],\n",
    "            7: [\"60s\", \"Avantgarde\"],\n",
    "            8: [\"70s\", \"Mainstream\"],\n",
    "            9: [\"70s\", \"Avantgarde\"],\n",
    "            10: [\"80s\", \"Mainstream\"],\n",
    "            11: [\"80s\", \"Avantgarde\"],\n",
    "            12: [\"80s\", \"Mainstream\"],\n",
    "            13: [\"80s\", \"Avantgarde\"],\n",
    "            14: [\"90s\", \"Mainstream\"],\n",
    "            15: [\"90s\", \"Avantgarde\"]\n",
    "        }\n",
    "        def get_decade(row):\n",
    "            return pj[int(row.PRAEGENDE_JUGENDJAHRE)][0]\n",
    "\n",
    "        def get_type(row):\n",
    "            return pj[int(row.PRAEGENDE_JUGENDJAHRE)][1]\n",
    "\n",
    "        new_df['pj_decade'] = new_df.apply (lambda row: get_decade(row), axis=1)\n",
    "        new_df['pj_type'] = new_df.apply (lambda row: get_type(row), axis=1)\n",
    "        new_df.drop(\"PRAEGENDE_JUGENDJAHRE\", axis=1, inplace=True)\n",
    "        \n",
    "        new_df = pd.get_dummies(new_df, columns=['pj_decade', 'pj_type'])\n",
    "    \n",
    "    \n",
    "    if \"CAMEO_INTL_2015\" in new_df.columns:\n",
    "    # Investigate \"CAMEO_INTL_2015\" and engineer two new variables.\n",
    "        cam_dict = {\n",
    "            11: [\"Wealthy Households\" , \"Pre-Family Couples & Singles\"],\n",
    "            12: [\"Wealthy Households\", \"Young Couples With Children\"],\n",
    "            13: [\"Wealthy Households\" , \"Families With School Age Children\"],\n",
    "            14: [\"Wealthy Households\" , \"Older Families &  Mature Couples\"],\n",
    "            15: [\"Wealthy Households\" , \"Elders In Retirement\"],\n",
    "            21: [\"Prosperous Households\" , \"Pre-Family Couples & Singles\"],\n",
    "            22: [\"Prosperous Households\" , \"Young Couples With Children\"],\n",
    "            23: [\"Prosperous Households\" , \"Families With School Age Children\"],\n",
    "            24: [\"Prosperous Households\" , \"Older Families & Mature Couples\"],\n",
    "            25: [\"Prosperous Households\" , \"Elders In Retirement\"],\n",
    "            31: [\"Comfortable Households\" , \"Pre-Family Couples & Singles\"],\n",
    "            32: [\"Comfortable Households\" , \"Young Couples With Children\"],\n",
    "            33: [\"Comfortable Households\" , \"Families With School Age Children\"],\n",
    "            34: [\"Comfortable Households\" , \"Older Families & Mature Couples\"],\n",
    "            35: [\"Comfortable Households\" , \"Elders In Retirement\"],\n",
    "            41: [\"Less Affluent Households\" , \"Pre-Family Couples & Singles\"],\n",
    "            42: [\"Less Affluent Households\" , \"Young Couples With Children\"],\n",
    "            43: [\"Less Affluent Households\" , \"Families With School Age Children\"],\n",
    "            44: [\"Less Affluent Households\" , \"Older Families & Mature Couples\"],\n",
    "            45: [\"Less Affluent Households\" , \"Elders In Retirement\"],\n",
    "            51: [\"Poorer Households\" , \"Pre-Family Couples & Singles\"],\n",
    "            52: [\"Poorer Households\" , \"Young Couples With Children\"],\n",
    "            53: [\"Poorer Households\" , \"Families With School Age Children\"],\n",
    "            54: [\"Poorer Households\" , \"Older Families & Mature Couples\"],\n",
    "            55: [\"Poorer Households\" , \"Elders In Retirement\"]\n",
    "        }   \n",
    "\n",
    "        def get_wealth(row):\n",
    "            return cam_dict[int(row.CAMEO_INTL_2015)][0]\n",
    "\n",
    "        def get_fam_status(row):\n",
    "            return cam_dict[int(row.CAMEO_INTL_2015)][1]\n",
    "\n",
    "        new_df['cam_wealth'] = new_df.apply (lambda row: get_wealth(row), axis=1)\n",
    "        new_df['cam_fam_status'] = new_df.apply (lambda row: get_fam_status(row), axis=1)\n",
    "        new_df.drop(\"CAMEO_INTL_2015\", axis=1, inplace=True)\n",
    "        \n",
    "        new_df = pd.get_dummies(new_df, columns=['cam_wealth', 'cam_fam_status'])\n",
    "    \n",
    "    \n",
    "#------------------------------------------------------------------------------------    \n",
    "    \n",
    "    \n",
    "    \n",
    "\n",
    "    # Return the cleaned dataframe.\n",
    "    return new_df\n",
    "    "
   ]
  },
  {
   "cell_type": "markdown",
   "metadata": {},
   "source": [
    "## Step 2: Feature Transformation\n",
    "\n",
    "### Step 2.1: Apply Feature Scaling\n",
    "\n",
    "Before we apply dimensionality reduction techniques to the data, we need to perform feature scaling so that the principal component vectors are not influenced by the natural differences in scale for features. Starting from this part of the project, you'll want to keep an eye on the [API reference page for sklearn](http://scikit-learn.org/stable/modules/classes.html) to help you navigate to all of the classes and functions that you'll need. In this substep, you'll need to check the following:\n",
    "\n",
    "- sklearn requires that data not have missing values in order for its estimators to work properly. So, before applying the scaler to your data, make sure that you've cleaned the DataFrame of the remaining missing values. This can be as simple as just removing all data points with missing data, or applying an [Imputer](https://scikit-learn.org/0.16/modules/generated/sklearn.preprocessing.Imputer.html) to replace all missing values. You might also try a more complicated procedure where you temporarily remove missing values in order to compute the scaling parameters before re-introducing those missing values and applying imputation. Think about how much missing data you have and what possible effects each approach might have on your analysis, and justify your decision in the discussion section below.\n",
    "- For the actual scaling function, a [StandardScaler](http://scikit-learn.org/stable/modules/generated/sklearn.preprocessing.StandardScaler.html) instance is suggested, scaling each feature to mean 0 and standard deviation 1.\n",
    "- For these classes, you can make use of the `.fit_transform()` method to both fit a procedure to the data as well as apply the transformation to the data at the same time. Don't forget to keep the fit sklearn objects handy, since you'll be applying them to the customer demographics data towards the end of the project."
   ]
  },
  {
   "cell_type": "code",
   "execution_count": 150,
   "metadata": {
    "scrolled": true
   },
   "outputs": [
    {
     "data": {
      "text/plain": [
       "(623209, 83)"
      ]
     },
     "execution_count": 150,
     "metadata": {},
     "output_type": "execute_result"
    }
   ],
   "source": [
    "# If you've not yet cleaned the dataset of all NaN values, then investigate and\n",
    "# do that now.\n",
    "\n",
    "df = new_azdias.copy()\n",
    "\n",
    "from sklearn.impute import SimpleImputer\n",
    "imputer = SimpleImputer(missing_values=np.nan, strategy='mean')\n",
    "df_clean = pd.DataFrame(imputer.fit_transform(df))\n",
    "\n",
    "df_clean.shape\n"
   ]
  },
  {
   "cell_type": "code",
   "execution_count": 151,
   "metadata": {
    "scrolled": true
   },
   "outputs": [],
   "source": [
    "# Apply feature scaling to the general population demographics data.\n",
    "from sklearn.preprocessing import StandardScaler\n",
    "\n",
    "scaler = StandardScaler()\n",
    "df_scaled = scaler.fit_transform(df_clean)\n",
    "df_scaled = pd.DataFrame(df_scaled, index=df.index, columns=df.columns)\n"
   ]
  },
  {
   "cell_type": "markdown",
   "metadata": {},
   "source": [
    "### Discussion 2.1: Apply Feature Scaling\n",
    "\n",
    "An imputer was used on the dataset initially to remove any nans with the mean.  Then the StandardScaler was applied to the dataset."
   ]
  },
  {
   "cell_type": "markdown",
   "metadata": {},
   "source": [
    "### Step 2.2: Perform Dimensionality Reduction\n",
    "\n",
    "On your scaled data, you are now ready to apply dimensionality reduction techniques.\n",
    "\n",
    "- Use sklearn's [PCA](http://scikit-learn.org/stable/modules/generated/sklearn.decomposition.PCA.html) class to apply principal component analysis on the data, thus finding the vectors of maximal variance in the data. To start, you should not set any parameters (so all components are computed) or set a number of components that is at least half the number of features (so there's enough features to see the general trend in variability).\n",
    "- Check out the ratio of variance explained by each principal component as well as the cumulative variance explained. Try plotting the cumulative or sequential values using matplotlib's [`plot()`](https://matplotlib.org/api/_as_gen/matplotlib.pyplot.plot.html) function. Based on what you find, select a value for the number of transformed features you'll retain for the clustering part of the project.\n",
    "- Once you've made a choice for the number of components to keep, make sure you re-fit a PCA instance to perform the decided-on transformation."
   ]
  },
  {
   "cell_type": "code",
   "execution_count": 152,
   "metadata": {
    "scrolled": true
   },
   "outputs": [],
   "source": [
    "# Apply PCA to the data.\n",
    "from sklearn.decomposition import PCA\n",
    "\n",
    "def do_pca(n_components, data):\n",
    "    '''\n",
    "    Transforms data using PCA to create n_components, and provides back the results of the\n",
    "    transformation.\n",
    "\n",
    "    INPUT: n_components - int - the number of principal components to create\n",
    "           data - the data you would like to transform\n",
    "\n",
    "    OUTPUT: pca - the pca object created after fitting the data\n",
    "            X_pca - the transformed X matrix with new number of components\n",
    "    '''\n",
    "    X = StandardScaler().fit_transform(data)\n",
    "    pca = PCA(n_components)\n",
    "    X_pca = pca.fit_transform(X)\n",
    "    return pca, X_pca\n",
    "\n",
    "pca, X_pca = do_pca(83, df_scaled)\n"
   ]
  },
  {
   "cell_type": "code",
   "execution_count": 153,
   "metadata": {
    "scrolled": true
   },
   "outputs": [
    {
     "data": {
      "image/png": "[encoded data removed]",
      "text/plain": [
       "<Figure size 720x432 with 1 Axes>"
      ]
     },
     "metadata": {
      "needs_background": "light"
     },
     "output_type": "display_data"
    }
   ],
   "source": [
    "# Investigate the variance accounted for by each principal component.\n",
    "def scree_plot(pca):\n",
    "    '''\n",
    "    Creates a scree plot associated with the principal components \n",
    "    \n",
    "    INPUT: pca - the result of instantian of PCA in scikit learn\n",
    "            \n",
    "    OUTPUT:\n",
    "            None\n",
    "    '''\n",
    "    num_components=len(pca.explained_variance_ratio_)\n",
    "    ind = np.arange(num_components)\n",
    "    vals = pca.explained_variance_ratio_\n",
    " \n",
    "    plt.figure(figsize=(10, 6))\n",
    "    ax = plt.subplot(111)\n",
    "    cumvals = np.cumsum(vals)\n",
    "    ax.bar(ind, vals)\n",
    "    ax.plot(ind, cumvals)\n",
    "    for i in range(num_components):\n",
    "        ax.annotate(r\"%s%%\" % ((str(vals[i]*100)[:4])), (ind[i]+0.2, vals[i]), va=\"bottom\", ha=\"center\", fontsize=12)\n",
    " \n",
    "    ax.xaxis.set_tick_params(width=0)\n",
    "    ax.yaxis.set_tick_params(width=2, length=12)\n",
    " \n",
    "    ax.set_xlabel(\"Principal Component\")\n",
    "    ax.set_ylabel(\"Variance Explained (%)\")\n",
    "    plt.title('Explained Variance Per Principal Component')\n",
    "\n",
    "    \n",
    "scree_plot(pca)    "
   ]
  },
  {
   "cell_type": "code",
   "execution_count": 154,
   "metadata": {
    "scrolled": true
   },
   "outputs": [
    {
     "data": {
      "text/plain": [
       "array([0.15309852, 0.2634344 , 0.3387162 , 0.39272782, 0.42733491,\n",
       "       0.45457806, 0.48038603, 0.50393849, 0.5270448 , 0.54887946,\n",
       "       0.56937328, 0.58839423, 0.6058428 , 0.62290223, 0.63817506,\n",
       "       0.65283653, 0.66735028, 0.68168828, 0.69551037, 0.70892687,\n",
       "       0.72199663, 0.73478694, 0.74725435, 0.75929864, 0.77110902,\n",
       "       0.78253664, 0.79339385, 0.80384291, 0.81421721, 0.82379712,\n",
       "       0.83300232, 0.84204431, 0.85056465, 0.8588075 , 0.86678069,\n",
       "       0.87425432, 0.88078366, 0.88687821, 0.89279028, 0.89863682,\n",
       "       0.90423537, 0.90969844, 0.91507721, 0.92011737, 0.92487606,\n",
       "       0.92948276, 0.93394549, 0.93771563, 0.94128102, 0.94481303,\n",
       "       0.94817363, 0.95144682, 0.9545241 , 0.95751147, 0.96043943,\n",
       "       0.96327869, 0.96598453, 0.96862145, 0.97111217, 0.97351752,\n",
       "       0.97589163, 0.97814418, 0.98026641, 0.9822871 , 0.98421494,\n",
       "       0.986064  , 0.98777714, 0.98945765, 0.991079  , 0.99259453,\n",
       "       0.99403975, 0.99529389, 0.99653744, 0.99756208, 0.99853165,\n",
       "       0.99945413, 0.99991966, 1.        , 1.        , 1.        ,\n",
       "       1.        , 1.        , 1.        ])"
      ]
     },
     "execution_count": 154,
     "metadata": {},
     "output_type": "execute_result"
    }
   ],
   "source": [
    "np.cumsum(pca.explained_variance_ratio_)"
   ]
  },
  {
   "cell_type": "code",
   "execution_count": 155,
   "metadata": {
    "scrolled": true
   },
   "outputs": [],
   "source": [
    "# Re-apply PCA to the data while selecting for number of components to retain.\n",
    "pca, X_pca = do_pca(41, df_scaled)\n"
   ]
  },
  {
   "cell_type": "markdown",
   "metadata": {},
   "source": [
    "### Discussion 2.2: Perform Dimensionality Reduction\n",
    "\n",
    "Based on the scree plot and the cumsum 41 components will explain over 90% of the variation.  So I chose 41 and refit."
   ]
  },
  {
   "cell_type": "markdown",
   "metadata": {},
   "source": [
    "### Step 2.3: Interpret Principal Components\n",
    "\n",
    "Now that we have our transformed principal components, it's a nice idea to check out the weight of each variable on the first few components to see if they can be interpreted in some fashion.\n",
    "\n",
    "As a reminder, each principal component is a unit vector that points in the direction of highest variance (after accounting for the variance captured by earlier principal components). The further a weight is from zero, the more the principal component is in the direction of the corresponding feature. If two features have large weights of the same sign (both positive or both negative), then increases in one tend expect to be associated with increases in the other. To contrast, features with different signs can be expected to show a negative correlation: increases in one variable should result in a decrease in the other.\n",
    "\n",
    "- To investigate the features, you should map each weight to their corresponding feature name, then sort the features according to weight. The most interesting features for each principal component, then, will be those at the beginning and end of the sorted list. Use the data dictionary document to help you understand these most prominent features, their relationships, and what a positive or negative value on the principal component might indicate.\n",
    "- You should investigate and interpret feature associations from the first three principal components in this substep. To help facilitate this, you should write a function that you can call at any time to print the sorted list of feature weights, for the *i*-th principal component. This might come in handy in the next step of the project, when you interpret the tendencies of the discovered clusters."
   ]
  },
  {
   "cell_type": "code",
   "execution_count": 156,
   "metadata": {
    "scrolled": true
   },
   "outputs": [],
   "source": [
    "# Map weights for the first principal component to corresponding feature names\n",
    "# and then print the linked values, sorted by weight.\n",
    "# HINT: Try defining a function here or in a new cell that you can reuse in the\n",
    "# other cells.\n",
    "\n",
    "\n",
    "def get_weights(no_comp, pca, df):\n",
    "    '''\n",
    "    Gets the weight distribution of the component selected\n",
    "    \n",
    "    '''\n",
    "    df_pca_loadings = pd.DataFrame(pca.components_, columns= list(df.columns))\n",
    "    feature_weights = df_pca_loadings.iloc[no_comp-1].sort_values(ascending = False)\n",
    "    return feature_weights\n"
   ]
  },
  {
   "cell_type": "code",
   "execution_count": 157,
   "metadata": {
    "scrolled": true
   },
   "outputs": [
    {
     "name": "stdout",
     "output_type": "stream",
     "text": [
      "PLZ8_ANTG3                                          0.209528\n",
      "PLZ8_ANTG4                                          0.204266\n",
      "PLZ8_BAUMAX                                         0.201590\n",
      "HH_EINKOMMEN_SCORE                                  0.192165\n",
      "ORTSGR_KLS9                                         0.178533\n",
      "EWDICHTE                                            0.175361\n",
      "cam_wealth_Poorer Households                        0.160980\n",
      "cam_fam_status_Pre-Family Couples & Singles         0.151544\n",
      "FINANZ_HAUSBAUER                                    0.149895\n",
      "KBA05_ANTG4                                         0.143293\n",
      "PLZ8_ANTG2                                          0.138199\n",
      "ARBEIT                                              0.134179\n",
      "FINANZ_SPARER                                       0.128052\n",
      "KBA05_ANTG3                                         0.127674\n",
      "ANZ_HAUSHALTE_AKTIV                                 0.127637\n",
      "RELAT_AB                                            0.121186\n",
      "pj_type_Mainstream                                  0.118109\n",
      "SEMIO_PFLICHT                                       0.096705\n",
      "SEMIO_REL                                           0.093157\n",
      "SEMIO_TRADV                                         0.084596\n",
      "pj_decade_90s                                       0.081943\n",
      "SEMIO_RAT                                           0.080627\n",
      "SEMIO_MAT                                           0.074046\n",
      "REGIOTYP                                            0.070880\n",
      "SEMIO_FAM                                           0.070212\n",
      "SEMIO_KULT                                          0.063274\n",
      "FINANZ_UNAUFFAELLIGER                               0.062290\n",
      "FINANZ_ANLEGER                                      0.058275\n",
      "W_KEIT_KIND_HH                                      0.047179\n",
      "KKK                                                 0.044072\n",
      "SEMIO_SOZ                                           0.039038\n",
      "cam_wealth_Less Affluent Households                 0.035286\n",
      "PLZ8_HHZ                                            0.034063\n",
      "SEMIO_KAEM                                          0.033260\n",
      "ANZ_HH_TITEL                                        0.031033\n",
      "HEALTH_TYP                                          0.030339\n",
      "VERS_TYP                                            0.020063\n",
      "SEMIO_DOM                                           0.016284\n",
      "pj_decade_80s                                       0.013026\n",
      "SEMIO_KRIT                                          0.007202\n",
      "KBA05_ANTG2                                         0.006705\n",
      "ANREDE_KZ                                           0.002999\n",
      "SOHO_KZ                                            -0.002332\n",
      "ANZ_TITEL                                          -0.005804\n",
      "cam_wealth_Comfortable Households                  -0.009908\n",
      "RETOURTYP_BK_S                                     -0.016886\n",
      "pj_decade_40s                                      -0.017337\n",
      "pj_decade_70s                                      -0.023661\n",
      "cam_fam_status_Elders In Retirement                -0.023792\n",
      "cam_fam_status_Older Families & Mature Couples     -0.028197\n",
      "SEMIO_VERT                                         -0.028884\n",
      "MIN_GEBAEUDEJAHR                                   -0.033851\n",
      "cam_fam_status_Young Couples With Children         -0.034624\n",
      "pj_decade_50s                                      -0.035385\n",
      "ONLINE_AFFINITAET                                  -0.047805\n",
      "pj_decade_60s                                      -0.051125\n",
      "cam_fam_status_Families With School Age Children   -0.056723\n",
      "WOHNDAUER_2008                                     -0.061603\n",
      "OST_WEST_KZ                                        -0.061695\n",
      "WOHNLAGE                                           -0.069485\n",
      "SEMIO_ERL                                          -0.072749\n",
      "cam_fam_status_Older Families &  Mature Couples    -0.077294\n",
      "SEMIO_LUST                                         -0.077712\n",
      "KBA13_ANZAHL_PKW                                   -0.078116\n",
      "ANZ_PERSONEN                                       -0.094240\n",
      "FINANZ_VORSORGER                                   -0.102159\n",
      "ALTERSKATEGORIE_GROB                               -0.107148\n",
      "GEBAEUDETYP_RASTER                                 -0.108153\n",
      "cam_wealth_Wealthy Households                      -0.108624\n",
      "BALLRAUM                                           -0.111620\n",
      "cam_wealth_Prosperous Households                   -0.114231\n",
      "GREEN_AVANTGARDE                                   -0.118109\n",
      "pj_type_Avantgarde                                 -0.118109\n",
      "LP_LEBENSPHASE_GROB                                -0.128190\n",
      "LP_LEBENSPHASE_FEIN                                -0.143465\n",
      "INNENSTADT                                         -0.148983\n",
      "KONSUMNAEHE                                        -0.152459\n",
      "PLZ8_GBZ                                           -0.161003\n",
      "FINANZ_MINIMALIST                                  -0.200734\n",
      "KBA05_GBZ                                          -0.202628\n",
      "PLZ8_ANTG1                                         -0.212089\n",
      "KBA05_ANTG1                                        -0.212908\n",
      "MOBI_REGIO                                         -0.227274\n",
      "Name: 0, dtype: float64\n"
     ]
    }
   ],
   "source": [
    "# Get and print weights of 1st principal component\n",
    "print(get_weights(1, pca, df_scaled))\n"
   ]
  },
  {
   "cell_type": "code",
   "execution_count": 158,
   "metadata": {
    "scrolled": true
   },
   "outputs": [
    {
     "name": "stdout",
     "output_type": "stream",
     "text": [
      "ALTERSKATEGORIE_GROB                                0.261977\n",
      "FINANZ_VORSORGER                                    0.231948\n",
      "SEMIO_ERL                                           0.227142\n",
      "SEMIO_LUST                                          0.181045\n",
      "RETOURTYP_BK_S                                      0.166550\n",
      "pj_decade_60s                                       0.126436\n",
      "W_KEIT_KIND_HH                                      0.117555\n",
      "SEMIO_KRIT                                          0.111847\n",
      "pj_decade_50s                                       0.111780\n",
      "FINANZ_HAUSBAUER                                    0.100184\n",
      "SEMIO_KAEM                                          0.096890\n",
      "PLZ8_ANTG3                                          0.082487\n",
      "FINANZ_MINIMALIST                                   0.081002\n",
      "EWDICHTE                                            0.080720\n",
      "ORTSGR_KLS9                                         0.080436\n",
      "PLZ8_ANTG4                                          0.078984\n",
      "ANREDE_KZ                                           0.075714\n",
      "PLZ8_BAUMAX                                         0.074398\n",
      "pj_decade_40s                                       0.067074\n",
      "pj_decade_70s                                       0.065906\n",
      "WOHNDAUER_2008                                      0.061413\n",
      "ARBEIT                                              0.060183\n",
      "SEMIO_DOM                                           0.058004\n",
      "KBA05_ANTG4                                         0.057081\n",
      "RELAT_AB                                            0.056313\n",
      "PLZ8_ANTG2                                          0.054482\n",
      "ANZ_HAUSHALTE_AKTIV                                 0.050474\n",
      "cam_wealth_Poorer Households                        0.049398\n",
      "KBA05_ANTG3                                         0.039067\n",
      "cam_fam_status_Elders In Retirement                 0.038107\n",
      "HH_EINKOMMEN_SCORE                                  0.034278\n",
      "cam_fam_status_Pre-Family Couples & Singles         0.027701\n",
      "ANZ_HH_TITEL                                        0.026928\n",
      "VERS_TYP                                            0.026208\n",
      "REGIOTYP                                            0.017439\n",
      "cam_wealth_Less Affluent Households                 0.014572\n",
      "pj_type_Mainstream                                  0.009702\n",
      "PLZ8_HHZ                                            0.009637\n",
      "ANZ_TITEL                                           0.007708\n",
      "KKK                                                 0.000770\n",
      "SOHO_KZ                                            -0.002111\n",
      "cam_wealth_Comfortable Households                  -0.003161\n",
      "cam_fam_status_Older Families & Mature Couples     -0.006542\n",
      "KBA05_ANTG2                                        -0.009140\n",
      "GREEN_AVANTGARDE                                   -0.009702\n",
      "pj_type_Avantgarde                                 -0.009702\n",
      "cam_fam_status_Older Families &  Mature Couples    -0.016580\n",
      "cam_wealth_Wealthy Households                      -0.023790\n",
      "MIN_GEBAEUDEJAHR                                   -0.024634\n",
      "cam_fam_status_Families With School Age Children   -0.027300\n",
      "OST_WEST_KZ                                        -0.027567\n",
      "KBA13_ANZAHL_PKW                                   -0.033118\n",
      "LP_LEBENSPHASE_FEIN                                -0.033376\n",
      "cam_fam_status_Young Couples With Children         -0.034506\n",
      "GEBAEUDETYP_RASTER                                 -0.035364\n",
      "LP_LEBENSPHASE_GROB                                -0.040269\n",
      "cam_wealth_Prosperous Households                   -0.046732\n",
      "WOHNLAGE                                           -0.049928\n",
      "HEALTH_TYP                                         -0.051539\n",
      "BALLRAUM                                           -0.053074\n",
      "SEMIO_VERT                                         -0.054348\n",
      "pj_decade_80s                                      -0.055909\n",
      "KONSUMNAEHE                                        -0.057627\n",
      "ANZ_PERSONEN                                       -0.061126\n",
      "PLZ8_GBZ                                           -0.065214\n",
      "INNENSTADT                                         -0.066138\n",
      "KBA05_ANTG1                                        -0.067671\n",
      "KBA05_GBZ                                          -0.074427\n",
      "MOBI_REGIO                                         -0.074679\n",
      "PLZ8_ANTG1                                         -0.080886\n",
      "SEMIO_SOZ                                          -0.095885\n",
      "SEMIO_MAT                                          -0.153383\n",
      "ONLINE_AFFINITAET                                  -0.157830\n",
      "SEMIO_FAM                                          -0.172659\n",
      "SEMIO_RAT                                          -0.178029\n",
      "FINANZ_ANLEGER                                     -0.208219\n",
      "SEMIO_KULT                                         -0.211327\n",
      "pj_decade_90s                                      -0.214649\n",
      "FINANZ_UNAUFFAELLIGER                              -0.229038\n",
      "SEMIO_TRADV                                        -0.231314\n",
      "SEMIO_PFLICHT                                      -0.239905\n",
      "FINANZ_SPARER                                      -0.240810\n",
      "SEMIO_REL                                          -0.260470\n",
      "Name: 1, dtype: float64\n"
     ]
    }
   ],
   "source": [
    "# Map weights for the second principal component to corresponding feature names\n",
    "# and then print the linked values, sorted by weight.\n",
    "\n",
    "print(get_weights(2, pca, df_scaled))"
   ]
  },
  {
   "cell_type": "code",
   "execution_count": 159,
   "metadata": {
    "scrolled": true
   },
   "outputs": [
    {
     "name": "stdout",
     "output_type": "stream",
     "text": [
      "SEMIO_VERT                                          0.346691\n",
      "SEMIO_SOZ                                           0.265434\n",
      "SEMIO_FAM                                           0.255266\n",
      "SEMIO_KULT                                          0.237026\n",
      "FINANZ_MINIMALIST                                   0.157748\n",
      "RETOURTYP_BK_S                                      0.106548\n",
      "SEMIO_REL                                           0.087540\n",
      "FINANZ_VORSORGER                                    0.085897\n",
      "W_KEIT_KIND_HH                                      0.081705\n",
      "pj_type_Avantgarde                                  0.080679\n",
      "GREEN_AVANTGARDE                                    0.080679\n",
      "ALTERSKATEGORIE_GROB                                0.067182\n",
      "SEMIO_LUST                                          0.064646\n",
      "ORTSGR_KLS9                                         0.057631\n",
      "EWDICHTE                                            0.057581\n",
      "SEMIO_MAT                                           0.056780\n",
      "pj_decade_60s                                       0.050566\n",
      "PLZ8_BAUMAX                                         0.047792\n",
      "pj_decade_50s                                       0.047778\n",
      "PLZ8_ANTG4                                          0.046589\n",
      "PLZ8_ANTG3                                          0.045970\n",
      "WOHNDAUER_2008                                      0.033532\n",
      "ARBEIT                                              0.033028\n",
      "RELAT_AB                                            0.032576\n",
      "PLZ8_ANTG2                                          0.031252\n",
      "pj_decade_40s                                       0.024348\n",
      "KBA05_ANTG4                                         0.023769\n",
      "cam_fam_status_Pre-Family Couples & Singles         0.021722\n",
      "ANZ_HAUSHALTE_AKTIV                                 0.021226\n",
      "VERS_TYP                                            0.018879\n",
      "cam_wealth_Poorer Households                        0.017234\n",
      "ANZ_HH_TITEL                                        0.014552\n",
      "LP_LEBENSPHASE_FEIN                                 0.013898\n",
      "cam_wealth_Wealthy Households                       0.013527\n",
      "ANZ_TITEL                                           0.013067\n",
      "cam_fam_status_Elders In Retirement                 0.011223\n",
      "PLZ8_HHZ                                            0.010789\n",
      "LP_LEBENSPHASE_GROB                                 0.010031\n",
      "cam_fam_status_Older Families &  Mature Couples     0.009417\n",
      "pj_decade_70s                                       0.006446\n",
      "ANZ_PERSONEN                                        0.006231\n",
      "SOHO_KZ                                             0.000708\n",
      "cam_wealth_Less Affluent Households                 0.000186\n",
      "KBA05_ANTG3                                        -0.000086\n",
      "cam_wealth_Comfortable Households                  -0.000390\n",
      "OST_WEST_KZ                                        -0.007470\n",
      "HEALTH_TYP                                         -0.009043\n",
      "MIN_GEBAEUDEJAHR                                   -0.010598\n",
      "KBA05_ANTG1                                        -0.012436\n",
      "cam_fam_status_Older Families & Mature Couples     -0.012684\n",
      "pj_decade_80s                                      -0.013002\n",
      "KBA05_ANTG2                                        -0.013142\n",
      "cam_fam_status_Families With School Age Children   -0.015943\n",
      "REGIOTYP                                           -0.017287\n",
      "KBA05_GBZ                                          -0.019086\n",
      "KBA13_ANZAHL_PKW                                   -0.019893\n",
      "cam_fam_status_Young Couples With Children         -0.020386\n",
      "MOBI_REGIO                                         -0.021193\n",
      "cam_wealth_Prosperous Households                   -0.029838\n",
      "KKK                                                -0.031370\n",
      "GEBAEUDETYP_RASTER                                 -0.032577\n",
      "PLZ8_GBZ                                           -0.034131\n",
      "WOHNLAGE                                           -0.036731\n",
      "ONLINE_AFFINITAET                                  -0.038096\n",
      "KONSUMNAEHE                                        -0.042165\n",
      "PLZ8_ANTG1                                         -0.043736\n",
      "BALLRAUM                                           -0.044474\n",
      "HH_EINKOMMEN_SCORE                                 -0.046561\n",
      "INNENSTADT                                         -0.051439\n",
      "FINANZ_HAUSBAUER                                   -0.059511\n",
      "SEMIO_PFLICHT                                      -0.063865\n",
      "SEMIO_TRADV                                        -0.070561\n",
      "pj_decade_90s                                      -0.076532\n",
      "FINANZ_UNAUFFAELLIGER                              -0.077585\n",
      "pj_type_Mainstream                                 -0.080679\n",
      "FINANZ_SPARER                                      -0.090669\n",
      "SEMIO_ERL                                          -0.179362\n",
      "FINANZ_ANLEGER                                     -0.183547\n",
      "SEMIO_RAT                                          -0.205000\n",
      "SEMIO_KRIT                                         -0.271501\n",
      "SEMIO_DOM                                          -0.305201\n",
      "SEMIO_KAEM                                         -0.333691\n",
      "ANREDE_KZ                                          -0.364757\n",
      "Name: 2, dtype: float64\n"
     ]
    }
   ],
   "source": [
    "# Map weights for the third principal component to corresponding feature names\n",
    "# and then print the linked values, sorted by weight.\n",
    "\n",
    "print(get_weights(3, pca, df_scaled))"
   ]
  },
  {
   "cell_type": "markdown",
   "metadata": {},
   "source": [
    "### Discussion 2.3: Interpret Principal Components\n",
    "\n",
    "(Double-click this cell and replace this text with your own text, reporting your observations from detailed investigation of the first few principal components generated. Can we interpret positive and negative values from them in a meaningful way?)\n",
    "\n",
    "**In the first principle component the top 3 features are:**\n",
    ">- PLZ8_ANTG3 \n",
    ">- PLZ8_ANTG4  \n",
    ">- PLZ8_BAUMAX\n",
    "\n",
    "These features represent the number of family houses, and building types.\n",
    "\n",
    "\n",
    "**In the second principle component the top 3 features are:**\n",
    ">- ALTERSKATEGORIE_GROB\n",
    ">- FINANZ_VORSORGER\n",
    ">- SEMIO_ERL\n",
    "\n",
    "The first feature relates to age.  The second relates to financial status.  And the third relates to personality type (eg. socially-minded, family-minded, religious, materialistic .....).\n",
    "\n",
    "\n",
    "**In the third principle component the top 3 features are:**\n",
    ">- SEMIO_VERT\n",
    ">- SEMIO_SOZ\n",
    ">- SEMIO_FAM  \n",
    "\n",
    "All these features relate to personality type (eg. socially-minded, family-minded, religious, materialistic .....).\n"
   ]
  },
  {
   "cell_type": "markdown",
   "metadata": {},
   "source": [
    "## Step 3: Clustering\n",
    "\n",
    "### Step 3.1: Apply Clustering to General Population\n",
    "\n",
    "You've assessed and cleaned the demographics data, then scaled and transformed them. Now, it's time to see how the data clusters in the principal components space. In this substep, you will apply k-means clustering to the dataset and use the average within-cluster distances from each point to their assigned cluster's centroid to decide on a number of clusters to keep.\n",
    "\n",
    "- Use sklearn's [KMeans](http://scikit-learn.org/stable/modules/generated/sklearn.cluster.KMeans.html#sklearn.cluster.KMeans) class to perform k-means clustering on the PCA-transformed data.\n",
    "- Then, compute the average difference from each point to its assigned cluster's center. **Hint**: The KMeans object's `.score()` method might be useful here, but note that in sklearn, scores tend to be defined so that larger is better. Try applying it to a small, toy dataset, or use an internet search to help your understanding.\n",
    "- Perform the above two steps for a number of different cluster counts. You can then see how the average distance decreases with an increasing number of clusters. However, each additional cluster provides a smaller net benefit. Use this fact to select a final number of clusters in which to group the data. **Warning**: because of the large size of the dataset, it can take a long time for the algorithm to resolve. The more clusters to fit, the longer the algorithm will take. You should test for cluster counts through at least 10 clusters to get the full picture, but you shouldn't need to test for a number of clusters above about 30.\n",
    "- Once you've selected a final number of clusters to use, re-fit a KMeans instance to perform the clustering operation. Make sure that you also obtain the cluster assignments for the general demographics data, since you'll be using them in the final Step 3.3."
   ]
  },
  {
   "cell_type": "code",
   "execution_count": 164,
   "metadata": {
    "scrolled": true
   },
   "outputs": [],
   "source": [
    "# Over a number of different cluster counts...\n",
    "# run k-means clustering on the data and...\n",
    "# compute the average within-cluster distances.\n",
    "\n",
    "from sklearn.cluster import KMeans\n",
    "\n",
    "scores = []\n",
    "for center in range(1,20):\n",
    "    kmeans = KMeans(n_clusters=center, random_state=0)\n",
    "    model = kmeans.fit(X_pca)\n",
    "    scores.append(abs(model.score(X_pca)))\n"
   ]
  },
  {
   "cell_type": "code",
   "execution_count": 165,
   "metadata": {
    "scrolled": false
   },
   "outputs": [
    {
     "data": {
      "text/plain": [
       "[<matplotlib.lines.Line2D at 0x294811fba90>]"
      ]
     },
     "execution_count": 165,
     "metadata": {},
     "output_type": "execute_result"
    },
    {
     "data": {
      "image/png": "[encoded data removed]",
      "text/plain": [
       "<Figure size 432x288 with 1 Axes>"
      ]
     },
     "metadata": {
      "needs_background": "light"
     },
     "output_type": "display_data"
    }
   ],
   "source": [
    "# Investigate the change in within-cluster distance across number of clusters.\n",
    "# HINT: Use matplotlib's plot function to visualize this relationship.\n",
    "\n",
    "centers = list(range(1,20))\n",
    "plt.plot(centers,scores)"
   ]
  },
  {
   "cell_type": "code",
   "execution_count": 166,
   "metadata": {
    "scrolled": true
   },
   "outputs": [],
   "source": [
    "# Re-fit the k-means model with the selected number of clusters and obtain\n",
    "# cluster predictions for the general population demographics data.\n",
    "kmeans = KMeans(n_clusters=10, random_state=0)\n",
    "model = kmeans.fit(X_pca)\n",
    "\n",
    "# Demographic cluster predictions\n",
    "demo_pred = model.predict(X_pca)\n"
   ]
  },
  {
   "cell_type": "markdown",
   "metadata": {},
   "source": [
    "### Discussion 3.1: Apply Clustering to General Population\n",
    "\n",
    "I chose 10 as the K value for number of clusters.  This to me looked like a good turning point for the elbow method."
   ]
  },
  {
   "cell_type": "markdown",
   "metadata": {},
   "source": [
    "### Step 3.2: Apply All Steps to the Customer Data\n",
    "\n",
    "Now that you have clusters and cluster centers for the general population, it's time to see how the customer data maps on to those clusters. Take care to not confuse this for re-fitting all of the models to the customer data. Instead, you're going to use the fits from the general population to clean, transform, and cluster the customer data. In the last step of the project, you will interpret how the general population fits apply to the customer data.\n",
    "\n",
    "- Don't forget when loading in the customers data, that it is semicolon (`;`) delimited.\n",
    "- Apply the same feature wrangling, selection, and engineering steps to the customer demographics using the `clean_data()` function you created earlier. (You can assume that the customer demographics data has similar meaning behind missing data patterns as the general demographics data.)\n",
    "- Use the sklearn objects from the general demographics data, and apply their transformations to the customers data. That is, you should not be using a `.fit()` or `.fit_transform()` method to re-fit the old objects, nor should you be creating new sklearn objects! Carry the data through the feature scaling, PCA, and clustering steps, obtaining cluster assignments for all of the data in the customer demographics data."
   ]
  },
  {
   "cell_type": "code",
   "execution_count": 167,
   "metadata": {
    "scrolled": true
   },
   "outputs": [
    {
     "data": {
      "text/plain": [
       "(191652, 85)"
      ]
     },
     "execution_count": 167,
     "metadata": {},
     "output_type": "execute_result"
    }
   ],
   "source": [
    "# Load in the customer demographics data.\n",
    "customers = pd.read_csv('Udacity_CUSTOMERS_Subset.csv', sep=';')\n",
    "customers.shape"
   ]
  },
  {
   "cell_type": "code",
   "execution_count": 168,
   "metadata": {
    "scrolled": true
   },
   "outputs": [
    {
     "name": "stdout",
     "output_type": "stream",
     "text": [
      "(191652, 77)\n"
     ]
    },
    {
     "data": {
      "text/plain": [
       "(121111, 82)"
      ]
     },
     "execution_count": 168,
     "metadata": {},
     "output_type": "execute_result"
    }
   ],
   "source": [
    "# Apply preprocessing, feature transformation, and clustering from the general\n",
    "# demographics onto the customer data, obtaining cluster predictions for the\n",
    "# customer demographics data.\n",
    "\n",
    "#clean the data\n",
    "customers_cleaned = clean_data(customers)\n",
    "customers_cleaned.shape"
   ]
  },
  {
   "cell_type": "code",
   "execution_count": 169,
   "metadata": {
    "scrolled": true
   },
   "outputs": [],
   "source": [
    "#scaling\n",
    "customers_scaled = scaler.fit_transform(customers_cleaned)\n",
    "customers_scaled = pd.DataFrame(customers_scaled, index=customers_cleaned.index, columns=customers_cleaned.columns)"
   ]
  },
  {
   "cell_type": "code",
   "execution_count": 170,
   "metadata": {
    "scrolled": true
   },
   "outputs": [],
   "source": [
    "#PCA\n",
    "pca, X_pca = do_pca(41, customers_scaled)"
   ]
  },
  {
   "cell_type": "code",
   "execution_count": 171,
   "metadata": {
    "scrolled": true
   },
   "outputs": [],
   "source": [
    "#Kmeans Clustering\n",
    "\n",
    "# Customer data cluster predictions\n",
    "cust_pred = model.predict(X_pca)"
   ]
  },
  {
   "cell_type": "markdown",
   "metadata": {},
   "source": [
    "### Step 3.3: Compare Customer Data to Demographics Data\n",
    "\n",
    "At this point, you have clustered data based on demographics of the general population of Germany, and seen how the customer data for a mail-order sales company maps onto those demographic clusters. In this final substep, you will compare the two cluster distributions to see where the strongest customer base for the company is.\n",
    "\n",
    "Consider the proportion of persons in each cluster for the general population, and the proportions for the customers. If we think the company's customer base to be universal, then the cluster assignment proportions should be fairly similar between the two. If there are only particular segments of the population that are interested in the company's products, then we should see a mismatch from one to the other. If there is a higher proportion of persons in a cluster for the customer data compared to the general population (e.g. 5% of persons are assigned to a cluster for the general population, but 15% of the customer data is closest to that cluster's centroid) then that suggests the people in that cluster to be a target audience for the company. On the other hand, the proportion of the data in a cluster being larger in the general population than the customer data (e.g. only 2% of customers closest to a population centroid that captures 6% of the data) suggests that group of persons to be outside of the target demographics.\n",
    "\n",
    "Take a look at the following points in this step:\n",
    "\n",
    "- Compute the proportion of data points in each cluster for the general population and the customer data. Visualizations will be useful here: both for the individual dataset proportions, but also to visualize the ratios in cluster representation between groups. Seaborn's [`countplot()`](https://seaborn.pydata.org/generated/seaborn.countplot.html) or [`barplot()`](https://seaborn.pydata.org/generated/seaborn.barplot.html) function could be handy.\n",
    "  - Recall the analysis you performed in step 1.1.3 of the project, where you separated out certain data points from the dataset if they had more than a specified threshold of missing values. If you found that this group was qualitatively different from the main bulk of the data, you should treat this as an additional data cluster in this analysis. Make sure that you account for the number of data points in this subset, for both the general population and customer datasets, when making your computations!\n",
    "- Which cluster or clusters are overrepresented in the customer dataset compared to the general population? Select at least one such cluster and infer what kind of people might be represented by that cluster. Use the principal component interpretations from step 2.3 or look at additional components to help you make this inference. Alternatively, you can use the `.inverse_transform()` method of the PCA and StandardScaler objects to transform centroids back to the original data space and interpret the retrieved values directly.\n",
    "- Perform a similar investigation for the underrepresented clusters. Which cluster or clusters are underrepresented in the customer dataset compared to the general population, and what kinds of people are typified by these clusters?"
   ]
  },
  {
   "cell_type": "code",
   "execution_count": 172,
   "metadata": {
    "scrolled": false
   },
   "outputs": [],
   "source": [
    "# Compare the proportion of data in each cluster for the customer data to the\n",
    "# proportion of data in each cluster for the general population.\n",
    "\n",
    "# New dataframe with percentages of weights per feature\n",
    "cust_df = pd.DataFrame(cust_pred)\n",
    "cust_vc = cust_df.value_counts().rename_axis('cluster').reset_index(name='counts')\n",
    "cust_vc.columns = ['cluster', 'Counts']\n",
    "cust_vc['Type'] = 'Customer'\n",
    "cust_vc['Percent'] = cust_vc['Counts']/len(cust_pred)\n",
    "cust_vc=cust_vc.reset_index(drop=True)\n",
    "\n",
    "\n",
    "# New dataframe with percentages of weights per feature\n",
    "demo_df = pd.DataFrame(demo_pred)\n",
    "demo_vc = demo_df.value_counts().rename_axis('cluster').reset_index(name='counts')\n",
    "demo_vc.columns = ['cluster', 'Counts']\n",
    "demo_vc['Type'] = 'Demographic'\n",
    "demo_vc['Percent'] = demo_vc['Counts']/len(demo_pred)\n",
    "demo_vc=demo_vc.reset_index(drop=True)\n",
    "\n",
    "# concat the two Dataframes together\n",
    "frames = [cust_vc, demo_vc]\n",
    "all_vc = pd.concat(frames, ignore_index=True)\n",
    "\n",
    "all_vc.columns = ['cluster', 'Counts', 'Type', 'Percent']\n"
   ]
  },
  {
   "cell_type": "code",
   "execution_count": 173,
   "metadata": {
    "scrolled": true
   },
   "outputs": [
    {
     "data": {
      "image/png": "[encoded data removed]",
      "text/plain": [
       "<Figure size 720x432 with 1 Axes>"
      ]
     },
     "metadata": {
      "needs_background": "light"
     },
     "output_type": "display_data"
    }
   ],
   "source": [
    "# Plot the new dataframe containing data for both demographic data and customer data\n",
    "\n",
    "fig, ax = plt.subplots(figsize=(10,6))\n",
    "ax = sns.barplot(x=\"cluster\", y=\"Percent\", hue=\"Type\", data=all_vc)\n",
    "ax.set(ylabel=\"Percent\")\n",
    "ax.bar_label(ax.containers[0], labels=[f'{x:.1%}' for x in ax.containers[0].datavalues], padding=3)\n",
    "ax.bar_label(ax.containers[1], labels=[f'{x:.1%}' for x in ax.containers[1].datavalues], padding=3)\n",
    "ax.set(title='Demographic Clustering')\n",
    "fig.tight_layout();"
   ]
  },
  {
   "cell_type": "code",
   "execution_count": 174,
   "metadata": {
    "scrolled": true
   },
   "outputs": [],
   "source": [
    "# create a pivot table on the new dataframe into another dataframe to sort over represented features and under represented\n",
    "\n",
    "groups = pd.pivot_table(all_vc, index=['cluster'], columns=['Type'], values=['Percent'])\n",
    "diff = pd.DataFrame((groups['Percent','Customer']-groups['Percent','Demographic'])*100)\n",
    "diff.reset_index(inplace=True)"
   ]
  },
  {
   "cell_type": "code",
   "execution_count": 175,
   "metadata": {
    "scrolled": true
   },
   "outputs": [
    {
     "name": "stdout",
     "output_type": "stream",
     "text": [
      "Over represented customer clusters\n"
     ]
    },
    {
     "data": {
      "text/html": [
       "<div>\n",
       "<style scoped>\n",
       "    .dataframe tbody tr th:only-of-type {\n",
       "        vertical-align: middle;\n",
       "    }\n",
       "\n",
       "    .dataframe tbody tr th {\n",
       "        vertical-align: top;\n",
       "    }\n",
       "\n",
       "    .dataframe thead th {\n",
       "        text-align: right;\n",
       "    }\n",
       "</style>\n",
       "<table border=\"1\" class=\"dataframe\">\n",
       "  <thead>\n",
       "    <tr style=\"text-align: right;\">\n",
       "      <th></th>\n",
       "      <th>cluster</th>\n",
       "      <th>%difference</th>\n",
       "    </tr>\n",
       "  </thead>\n",
       "  <tbody>\n",
       "    <tr>\n",
       "      <th>3</th>\n",
       "      <td>3</td>\n",
       "      <td>4.708387</td>\n",
       "    </tr>\n",
       "    <tr>\n",
       "      <th>4</th>\n",
       "      <td>4</td>\n",
       "      <td>2.505123</td>\n",
       "    </tr>\n",
       "    <tr>\n",
       "      <th>8</th>\n",
       "      <td>8</td>\n",
       "      <td>2.867590</td>\n",
       "    </tr>\n",
       "  </tbody>\n",
       "</table>\n",
       "</div>"
      ],
      "text/plain": [
       "   cluster  %difference\n",
       "3  3        4.708387   \n",
       "4  4        2.505123   \n",
       "8  8        2.867590   "
      ]
     },
     "execution_count": 175,
     "metadata": {},
     "output_type": "execute_result"
    }
   ],
   "source": [
    "# What kinds of people are part of a cluster that is overrepresented in the\n",
    "# customer data compared to the general population?\n",
    "\n",
    "diff.columns = ['cluster','%difference']\n",
    "over_rep = diff[diff['%difference'] >= 2.5]\n",
    "print(\"Over represented customer clusters\")\n",
    "over_rep"
   ]
  },
  {
   "cell_type": "code",
   "execution_count": 180,
   "metadata": {
    "scrolled": true
   },
   "outputs": [
    {
     "name": "stdout",
     "output_type": "stream",
     "text": [
      "-----------------------\n",
      "Customer Overweighted Cluster:  3\n",
      "\n",
      "GREEN_AVANTGARDE      0.330527\n",
      "pj_type_Avantgarde    0.330527\n",
      "ORTSGR_KLS9           0.228151\n",
      "Name: 3, dtype: float64\n",
      "HH_EINKOMMEN_SCORE   -0.199226\n",
      "WOHNLAGE             -0.243256\n",
      "pj_type_Mainstream   -0.330527\n",
      "Name: 3, dtype: float64\n",
      "-----------------------\n",
      "Customer Overweighted Cluster:  4\n",
      "\n",
      "LP_LEBENSPHASE_GROB    0.422996\n",
      "ANZ_PERSONEN           0.410227\n",
      "LP_LEBENSPHASE_FEIN    0.406966\n",
      "Name: 4, dtype: float64\n",
      "KBA13_ANZAHL_PKW   -0.160279\n",
      "PLZ8_GBZ           -0.186223\n",
      "W_KEIT_KIND_HH     -0.336326\n",
      "Name: 4, dtype: float64\n",
      "-----------------------\n",
      "Customer Overweighted Cluster:  8\n",
      "\n",
      "cam_wealth_Prosperous Households                  0.389305\n",
      "cam_fam_status_Older Families & Mature Couples    0.361354\n",
      "ANZ_HAUSHALTE_AKTIV                               0.297501\n",
      "Name: 8, dtype: float64\n",
      "cam_fam_status_Pre-Family Couples & Singles        -0.219013\n",
      "cam_fam_status_Families With School Age Children   -0.260789\n",
      "cam_wealth_Less Affluent Households                -0.324321\n",
      "Name: 8, dtype: float64\n"
     ]
    }
   ],
   "source": [
    "# The first 10 features and their weights for over represented components\n",
    "\n",
    "for cluster in over_rep['cluster']:\n",
    "    features = get_weights(cluster + 1, pca, customers_scaled)\n",
    "    print(\"-----------------------\")\n",
    "    print(\"Customer Overweighted Cluster: \", cluster)\n",
    "    print('')\n",
    "    print(features.head(3))\n",
    "    print(features.tail(3))\n",
    "    "
   ]
  },
  {
   "cell_type": "code",
   "execution_count": 177,
   "metadata": {
    "scrolled": true
   },
   "outputs": [
    {
     "data": {
      "text/html": [
       "<div>\n",
       "<style scoped>\n",
       "    .dataframe tbody tr th:only-of-type {\n",
       "        vertical-align: middle;\n",
       "    }\n",
       "\n",
       "    .dataframe tbody tr th {\n",
       "        vertical-align: top;\n",
       "    }\n",
       "\n",
       "    .dataframe thead th {\n",
       "        text-align: right;\n",
       "    }\n",
       "</style>\n",
       "<table border=\"1\" class=\"dataframe\">\n",
       "  <thead>\n",
       "    <tr style=\"text-align: right;\">\n",
       "      <th></th>\n",
       "      <th>cluster</th>\n",
       "      <th>%difference</th>\n",
       "    </tr>\n",
       "  </thead>\n",
       "  <tbody>\n",
       "    <tr>\n",
       "      <th>7</th>\n",
       "      <td>7</td>\n",
       "      <td>-6.274202</td>\n",
       "    </tr>\n",
       "    <tr>\n",
       "      <th>9</th>\n",
       "      <td>9</td>\n",
       "      <td>-2.948718</td>\n",
       "    </tr>\n",
       "  </tbody>\n",
       "</table>\n",
       "</div>"
      ],
      "text/plain": [
       "   cluster  %difference\n",
       "7  7       -6.274202   \n",
       "9  9       -2.948718   "
      ]
     },
     "execution_count": 177,
     "metadata": {},
     "output_type": "execute_result"
    }
   ],
   "source": [
    "# What kinds of people are part of a cluster that is underrepresented in the\n",
    "# customer data compared to the general population?\n",
    "\n",
    "diff.columns = ['cluster','%difference']\n",
    "under_rep = diff[diff['%difference'] <= -2.5]\n",
    "under_rep\n"
   ]
  },
  {
   "cell_type": "code",
   "execution_count": null,
   "metadata": {},
   "outputs": [],
   "source": []
  },
  {
   "cell_type": "code",
   "execution_count": 181,
   "metadata": {
    "scrolled": true
   },
   "outputs": [
    {
     "name": "stdout",
     "output_type": "stream",
     "text": [
      "-----------------------\n",
      "Customer Underweighted Cluster:  7\n",
      "\n",
      "cam_wealth_Wealthy Households                      0.384154\n",
      "ANZ_HAUSHALTE_AKTIV                                0.330982\n",
      "cam_fam_status_Older Families &  Mature Couples    0.320005\n",
      "Name: 7, dtype: float64\n",
      "KBA05_ANTG2                                      -0.274951\n",
      "cam_wealth_Prosperous Households                 -0.300467\n",
      "cam_fam_status_Older Families & Mature Couples   -0.320349\n",
      "Name: 7, dtype: float64\n",
      "-----------------------\n",
      "Customer Underweighted Cluster:  9\n",
      "\n",
      "SEMIO_MAT             0.281785\n",
      "GREEN_AVANTGARDE      0.197242\n",
      "pj_type_Avantgarde    0.197242\n",
      "Name: 9, dtype: float64\n",
      "GEBAEUDETYP_RASTER   -0.193920\n",
      "pj_type_Mainstream   -0.197242\n",
      "ARBEIT               -0.297950\n",
      "Name: 9, dtype: float64\n"
     ]
    }
   ],
   "source": [
    "# The first 10 features and their weights for under represented components\n",
    "\n",
    "for cluster in under_rep['cluster']:\n",
    "    features = get_weights(cluster + 1, pca, customers_scaled)\n",
    "    print(\"-----------------------\")\n",
    "    print(\"Customer Underweighted Cluster: \", cluster)\n",
    "    print('')\n",
    "    print(features.head(3))\n",
    "    print(features.tail(3))\n"
   ]
  },
  {
   "cell_type": "markdown",
   "metadata": {},
   "source": [
    "### Discussion 3.3: Compare Customer Data to Demographics Data\n",
    "\n",
    "(Double-click this cell and replace this text with your own text, reporting findings and conclusions from the clustering analysis. Can we describe segments of the population that are relatively popular with the mail-order company, or relatively unpopular with the company?)\n",
    "\n",
    "**Popular Segments:**\n",
    "\n",
    "Principle Components 3, 4, and 8 had a higher proportion than the overall dataset.  This would indicate the product is popular within these feature segments.  The product seems to be popular with people in poor rural highly populated areas. Along with older segments of the population.  With not much wealth.\n",
    "\n",
    "\n",
    "**Unpopular Segments:**\n",
    "\n",
    "Principle Components 7 and 9 were under represented in the customer dataset and tend to be unpopular within these groups.  These would be wealthy, educated, materialistic persons living in metropolitan areas with low unemployment.\n",
    "\n"
   ]
  },
  {
   "cell_type": "markdown",
   "metadata": {},
   "source": [
    "> Congratulations on making it this far in the project! Before you finish, make sure to check through the entire notebook from top to bottom to make sure that your analysis follows a logical flow and all of your findings are documented in **Discussion** cells. Once you've checked over all of your work, you should export the notebook as an HTML document to submit for evaluation. You can do this from the menu, navigating to **File -> Download as -> HTML (.html)**. You will submit both that document and this notebook for your project submission."
   ]
  },
  {
   "cell_type": "code",
   "execution_count": null,
   "metadata": {
    "scrolled": true
   },
   "outputs": [],
   "source": []
  }
 ],
 "metadata": {
  "kernelspec": {
   "display_name": "Python 3 (ipykernel)",
   "language": "python",
   "name": "python3"
  },
  "language_info": {
   "codemirror_mode": {
    "name": "ipython",
    "version": 3
   },
   "file_extension": ".py",
   "mimetype": "text/x-python",
   "name": "python",
   "nbconvert_exporter": "python",
   "pygments_lexer": "ipython3",
   "version": "3.9.12"
  }
 },
 "nbformat": 4,
 "nbformat_minor": 2
}
